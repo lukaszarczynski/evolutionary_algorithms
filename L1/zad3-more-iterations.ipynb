{
 "cells": [
  {
   "cell_type": "code",
   "execution_count": 3,
   "metadata": {
    "collapsed": true
   },
   "outputs": [],
   "source": [
    "import numpy as np\n",
    "import pandas\n",
    "from scipy import stats\n",
    "import matplotlib.pyplot as pyplot\n",
    "\n",
    "from pbil import pbil, population_evaluation\n",
    "%matplotlib inline"
   ]
  },
  {
   "cell_type": "code",
   "execution_count": 4,
   "metadata": {
    "collapsed": true
   },
   "outputs": [],
   "source": [
    "image = pandas.read_csv(\"data/ImageRawReduced.txt\", sep=\"\\s+\", header=None)"
   ]
  },
  {
   "cell_type": "code",
   "execution_count": 5,
   "metadata": {},
   "outputs": [
    {
     "name": "stdout",
     "output_type": "stream",
     "text": [
      "   0     1     2     3     4     5     6     7     8     9     ...   9340  \\\n",
      "0  26.0  29.0  33.0  34.0  33.0  27.0  30.0  26.0  30.0  29.0  ...   37.0   \n",
      "1  16.0  23.0  24.0  28.0  22.0  21.0  25.0  17.0  21.0  19.0  ...   27.0   \n",
      "2  75.0  68.0  86.0  87.0  81.0  71.0  76.0  78.0  90.0  74.0  ...   23.0   \n",
      "\n",
      "   9341  9342  9343  9344  9345  9346  9347  9348  9349  \n",
      "0  39.0  42.0  38.0  35.0  36.0  36.0  34.0  31.0  41.0  \n",
      "1  30.0  30.0  26.0  25.0  26.0  26.0  22.0  26.0  30.0  \n",
      "2  26.0  25.0  22.0  21.0  22.0  21.0  20.0  25.0  23.0  \n",
      "\n",
      "[3 rows x 9350 columns]\n"
     ]
    }
   ],
   "source": [
    "print(image.head())"
   ]
  },
  {
   "cell_type": "code",
   "execution_count": 6,
   "metadata": {
    "collapsed": true
   },
   "outputs": [],
   "source": [
    "image_expert = pandas.read_csv(\"data/ImageExpertReduced.txt\", sep=\"\\s+\", header=None)"
   ]
  },
  {
   "cell_type": "code",
   "execution_count": 7,
   "metadata": {},
   "outputs": [
    {
     "name": "stdout",
     "output_type": "stream",
     "text": [
      "   0     1     2     3     4     5     6     7     8     9     ...   9340  \\\n",
      "0   1.0   1.0   1.0   1.0   1.0   1.0   1.0   1.0   1.0   1.0  ...    3.0   \n",
      "\n",
      "   9341  9342  9343  9344  9345  9346  9347  9348  9349  \n",
      "0   3.0   3.0   3.0   3.0   3.0   3.0   3.0   3.0   3.0  \n",
      "\n",
      "[1 rows x 9350 columns]\n"
     ]
    }
   ],
   "source": [
    "print(image_expert.head())"
   ]
  },
  {
   "cell_type": "code",
   "execution_count": 8,
   "metadata": {
    "collapsed": true
   },
   "outputs": [],
   "source": [
    "classification_rules = pandas.read_csv(\"data/ClassificationRules.txt\", sep=\"\\s+\", header=None)"
   ]
  },
  {
   "cell_type": "code",
   "execution_count": 9,
   "metadata": {},
   "outputs": [
    {
     "name": "stdout",
     "output_type": "stream",
     "text": [
      "   0     1     2     3     4     5     6     7     8     9     ...   9340  \\\n",
      "0   1.0   1.0   1.0   1.0   1.0   1.0   1.0   1.0   1.0   1.0  ...    1.0   \n",
      "1   1.0   1.0   1.0   1.0   1.0   1.0   1.0   1.0   1.0   1.0  ...    3.0   \n",
      "2   1.0   1.0   1.0   1.0   1.0   1.0   1.0   1.0   1.0   1.0  ...    2.0   \n",
      "3   1.0   1.0   1.0   1.0   1.0   1.0   1.0   1.0   1.0   1.0  ...    2.0   \n",
      "4   1.0   1.0   1.0   1.0   1.0   1.0   1.0   1.0   1.0   1.0  ...    2.0   \n",
      "\n",
      "   9341  9342  9343  9344  9345  9346  9347  9348  9349  \n",
      "0   3.0   3.0   1.0   1.0   1.0   1.0   1.0   1.0   3.0  \n",
      "1   3.0   3.0   3.0   3.0   3.0   3.0   3.0   3.0   3.0  \n",
      "2   2.0   2.0   2.0   2.0   2.0   2.0   2.0   2.0   2.0  \n",
      "3   2.0   2.0   2.0   2.0   2.0   2.0   2.0   2.0   2.0  \n",
      "4   2.0   2.0   2.0   2.0   2.0   2.0   2.0   2.0   2.0  \n",
      "\n",
      "[5 rows x 9350 columns]\n"
     ]
    }
   ],
   "source": [
    "print(classification_rules.head())"
   ]
  },
  {
   "cell_type": "code",
   "execution_count": 10,
   "metadata": {},
   "outputs": [
    {
     "name": "stdout",
     "output_type": "stream",
     "text": [
      "(266, 9350)\n"
     ]
    }
   ],
   "source": [
    "print(classification_rules.shape)"
   ]
  },
  {
   "cell_type": "code",
   "execution_count": 11,
   "metadata": {},
   "outputs": [
    {
     "name": "stdout",
     "output_type": "stream",
     "text": [
      "[[ 1.  1.  1. ...,  3.  3.  3.]\n",
      " [ 1.  1.  1. ...,  1.  1.  3.]\n",
      " [ 1.  1.  1. ...,  2.  2.  2.]\n",
      " [ 1.  1.  1. ...,  2.  2.  2.]]\n"
     ]
    }
   ],
   "source": [
    "print(classification_rules.as_matrix()[(1,0,3,4), :])"
   ]
  },
  {
   "cell_type": "code",
   "execution_count": 12,
   "metadata": {},
   "outputs": [
    {
     "name": "stdout",
     "output_type": "stream",
     "text": [
      "[[ 1.  2.  1. ...,  3.  3.  3.]] (1, 9350)\n"
     ]
    }
   ],
   "source": [
    "majority_votes = stats.mode(classification_rules.as_matrix())[0]\n",
    "print(majority_votes, majority_votes.shape)"
   ]
  },
  {
   "cell_type": "code",
   "execution_count": 13,
   "metadata": {},
   "outputs": [
    {
     "name": "stdout",
     "output_type": "stream",
     "text": [
      "   0     1     2     3     4     5     6     7     8     9     ...   9340  \\\n",
      "0   1.0   1.0   1.0   1.0   1.0   1.0   1.0   1.0   1.0   1.0  ...    3.0   \n",
      "\n",
      "   9341  9342  9343  9344  9345  9346  9347  9348  9349  \n",
      "0   3.0   3.0   3.0   3.0   3.0   3.0   3.0   3.0   3.0  \n",
      "\n",
      "[1 rows x 9350 columns]\n"
     ]
    }
   ],
   "source": [
    "print(image_expert)"
   ]
  },
  {
   "cell_type": "code",
   "execution_count": 14,
   "metadata": {},
   "outputs": [
    {
     "data": {
      "text/plain": [
       "array([[ True, False,  True, ...,  True,  True,  True]], dtype=bool)"
      ]
     },
     "execution_count": 14,
     "metadata": {},
     "output_type": "execute_result"
    }
   ],
   "source": [
    "(majority_votes == image_expert.as_matrix())"
   ]
  },
  {
   "cell_type": "code",
   "execution_count": 15,
   "metadata": {},
   "outputs": [
    {
     "data": {
      "text/plain": [
       "0.85155080213903744"
      ]
     },
     "execution_count": 15,
     "metadata": {},
     "output_type": "execute_result"
    }
   ],
   "source": [
    "np.sum(majority_votes == image_expert.as_matrix()) / majority_votes.shape[1]"
   ]
  },
  {
   "cell_type": "code",
   "execution_count": 16,
   "metadata": {},
   "outputs": [
    {
     "name": "stdout",
     "output_type": "stream",
     "text": [
      "(1, 9350)\n"
     ]
    }
   ],
   "source": [
    "print(image_expert.as_matrix().shape)"
   ]
  },
  {
   "cell_type": "code",
   "execution_count": 17,
   "metadata": {},
   "outputs": [
    {
     "data": {
      "text/plain": [
       "7962"
      ]
     },
     "execution_count": 17,
     "metadata": {},
     "output_type": "execute_result"
    }
   ],
   "source": [
    "np.sum(majority_votes == image_expert.as_matrix())"
   ]
  },
  {
   "cell_type": "code",
   "execution_count": 18,
   "metadata": {},
   "outputs": [
    {
     "data": {
      "text/plain": [
       "array([ 0.64534759,  0.70385027,  0.47026738,  0.47604278,  0.47090909,\n",
       "        0.49187166,  0.53390374,  0.4768984 ,  0.58203209,  0.62534759,\n",
       "        0.66256684,  0.68342246,  0.69786096,  0.69796791,  0.70406417,\n",
       "        0.70791444,  0.71037433,  0.71069519,  0.71165775,  0.71176471,\n",
       "        0.71219251,  0.71304813,  0.71315508,  0.71347594,  0.50342246,\n",
       "        0.71315508,  0.71358289,  0.71368984,  0.71368984,  0.71368984,\n",
       "        0.71368984,  0.71379679,  0.71379679,  0.71379679,  0.71379679,\n",
       "        0.58181818,  0.47636364,  0.48673797,  0.49486631,  0.48973262,\n",
       "        0.50331551,  0.51229947,  0.52064171,  0.52802139,  0.5344385 ,\n",
       "        0.53518717,  0.53550802,  0.5428877 ,  0.54438503,  0.54438503,\n",
       "        0.55122995,  0.55828877,  0.71358289,  0.71358289,  0.71358289,\n",
       "        0.71358289,  0.71347594,  0.71347594,  0.71358289,  0.71347594,\n",
       "        0.71347594,  0.71347594,  0.71336898,  0.71326203,  0.71283422,\n",
       "        0.67850267,  0.71165775,  0.71176471,  0.68106952,  0.48983957,\n",
       "        0.54609626,  0.50128342,  0.57636364,  0.56417112,  0.48855615,\n",
       "        0.56994652,  0.71315508,  0.71304813,  0.71283422,  0.48363636,\n",
       "        0.57582888,  0.70652406,  0.5744385 ,  0.4913369 ,  0.52983957,\n",
       "        0.57411765,  0.5744385 ,  0.60673797,  0.60898396,  0.60898396,\n",
       "        0.59368984,  0.68566845,  0.59347594,  0.63144385,  0.63122995,\n",
       "        0.63101604,  0.56491979,  0.52631016,  0.52609626,  0.48074866,\n",
       "        0.6573262 ,  0.7086631 ,  0.53069519,  0.48823529,  0.50652406,\n",
       "        0.67935829,  0.48631016,  0.52449198,  0.48459893,  0.65283422,\n",
       "        0.58010695,  0.58502674,  0.57807487,  0.58684492,  0.58663102,\n",
       "        0.58941176,  0.58930481,  0.59208556,  0.59315508,  0.47283422,\n",
       "        0.62481283,  0.49497326,  0.71197861,  0.7115508 ,  0.71090909,\n",
       "        0.71069519,  0.71026738,  0.70919786,  0.70834225,  0.66363636,\n",
       "        0.62128342,  0.55775401,  0.4997861 ,  0.59379679,  0.59390374,\n",
       "        0.59272727,  0.59197861,  0.59101604,  0.59048128,  0.52909091,\n",
       "        0.58673797,  0.58395722,  0.58096257,  0.58085561,  0.57636364,\n",
       "        0.56994652,  0.4859893 ,  0.56181818,  0.56171123,  0.52566845,\n",
       "        0.54909091,  0.54887701,  0.53090909,  0.50534759,  0.48235294,\n",
       "        0.48278075,  0.48342246,  0.6173262 ,  0.57957219,  0.59935829,\n",
       "        0.58951872,  0.56203209,  0.53700535,  0.58877005,  0.48823529,\n",
       "        0.52909091,  0.49871658,  0.53283422,  0.53272727,  0.57294118,\n",
       "        0.60534759,  0.60566845,  0.62192513,  0.63080214,  0.63240642,\n",
       "        0.63272727,  0.62941176,  0.62352941,  0.6197861 ,  0.62      ,\n",
       "        0.61358289,  0.60812834,  0.60331551,  0.58673797,  0.58042781,\n",
       "        0.5740107 ,  0.56684492,  0.55871658,  0.55893048,  0.52363636,\n",
       "        0.55037433,  0.54395722,  0.5371123 ,  0.5373262 ,  0.52973262,\n",
       "        0.52395722,  0.5484492 ,  0.51304813,  0.50491979,  0.49647059,\n",
       "        0.48737968,  0.47903743,  0.47893048,  0.47165775,  0.6286631 ,\n",
       "        0.4826738 ,  0.50898396,  0.48620321,  0.49026738,  0.5342246 ,\n",
       "        0.53326203,  0.53935829,  0.50203209,  0.52684492,  0.50491979,\n",
       "        0.56278075,  0.5144385 ,  0.51454545,  0.50427807,  0.50331551,\n",
       "        0.5031016 ,  0.49518717,  0.49187166,  0.49197861,  0.52053476,\n",
       "        0.49807487,  0.51080214,  0.48224599,  0.48481283,  0.56609626,\n",
       "        0.46962567,  0.47818182,  0.48524064,  0.47561497,  0.47700535,\n",
       "        0.46823529,  0.69935829,  0.55165775,  0.5942246 ,  0.57016043,\n",
       "        0.70748663,  0.5344385 ,  0.70620321,  0.70417112,  0.70245989,\n",
       "        0.70096257,  0.52748663,  0.69946524,  0.69112299,  0.69721925,\n",
       "        0.69518717,  0.69240642,  0.68438503,  0.67786096,  0.53657754,\n",
       "        0.66973262,  0.65700535,  0.63882353,  0.61304813,  0.59112299,\n",
       "        0.54235294,  0.54213904,  0.51882353,  0.51882353,  0.49572193,\n",
       "        0.46951872])"
      ]
     },
     "execution_count": 18,
     "metadata": {},
     "output_type": "execute_result"
    }
   ],
   "source": [
    "data = np.zeros(classification_rules.as_matrix().shape[0])\n",
    "for i in range(classification_rules.as_matrix().shape[0]):\n",
    "    data[i] = sum(classification_rules.as_matrix()[i] == image_expert.as_matrix()[0]\n",
    "                  ) / majority_votes.shape[1]\n",
    "data"
   ]
  },
  {
   "cell_type": "code",
   "execution_count": 19,
   "metadata": {},
   "outputs": [
    {
     "data": {
      "text/plain": [
       "[<matplotlib.lines.Line2D at 0x7fa6ee395630>]"
      ]
     },
     "execution_count": 19,
     "metadata": {},
     "output_type": "execute_result"
    },
    {
     "data": {
      "image/png": "[encoded data removed]",
      "text/plain": [
       "<matplotlib.figure.Figure at 0x7fa6ee3fd198>"
      ]
     },
     "metadata": {},
     "output_type": "display_data"
    }
   ],
   "source": [
    "pyplot.plot(data)"
   ]
  },
  {
   "cell_type": "code",
   "execution_count": 20,
   "metadata": {
    "collapsed": true
   },
   "outputs": [],
   "source": [
    "image_expert = image_expert.as_matrix()\n",
    "classification_rules = classification_rules.as_matrix()"
   ]
  },
  {
   "cell_type": "code",
   "execution_count": 21,
   "metadata": {},
   "outputs": [
    {
     "data": {
      "text/plain": [
       "6034"
      ]
     },
     "execution_count": 21,
     "metadata": {},
     "output_type": "execute_result"
    }
   ],
   "source": [
    "sp = np.zeros(classification_rules.shape[0]).astype(\"bool\")\n",
    "sp[0] = True\n",
    "sp2 = np.ones(classification_rules.shape[0]).astype(\"bool\")\n",
    "majority_votes = stats.mode(classification_rules[sp])[0]\n",
    "sum(majority_votes[0] == image_expert[0])"
   ]
  },
  {
   "cell_type": "code",
   "execution_count": 22,
   "metadata": {},
   "outputs": [
    {
     "data": {
      "text/plain": [
       "ModeResult(mode=array([[ 1.,  1.,  1., ...,  1.,  1.,  3.]]), count=array([[1, 1, 1, ..., 1, 1, 1]]))"
      ]
     },
     "execution_count": 22,
     "metadata": {},
     "output_type": "execute_result"
    }
   ],
   "source": [
    "stats.mode(classification_rules[(sp)])"
   ]
  },
  {
   "cell_type": "code",
   "execution_count": 23,
   "metadata": {},
   "outputs": [
    {
     "data": {
      "text/plain": [
       "array([[ 1.,  1.,  1., ...,  3.,  3.,  3.]])"
      ]
     },
     "execution_count": 23,
     "metadata": {},
     "output_type": "execute_result"
    }
   ],
   "source": [
    "image_expert"
   ]
  },
  {
   "cell_type": "code",
   "execution_count": 24,
   "metadata": {},
   "outputs": [
    {
     "data": {
      "text/plain": [
       "array([[ 1.,  1.,  1., ...,  1.,  1.,  3.]])"
      ]
     },
     "execution_count": 24,
     "metadata": {},
     "output_type": "execute_result"
    }
   ],
   "source": [
    "classification_rules[sp.astype(\"bool\")]"
   ]
  },
  {
   "cell_type": "code",
   "execution_count": 25,
   "metadata": {},
   "outputs": [
    {
     "data": {
      "text/plain": [
       "array([[ 1.,  1.,  1., ...,  1.,  1.,  3.]])"
      ]
     },
     "execution_count": 25,
     "metadata": {},
     "output_type": "execute_result"
    }
   ],
   "source": [
    "stats.mode(classification_rules[sp.astype(\"bool\")])[0]"
   ]
  },
  {
   "cell_type": "code",
   "execution_count": 26,
   "metadata": {
    "collapsed": true
   },
   "outputs": [],
   "source": [
    "def objective_function(population):\n",
    "    scores = np.zeros(population.shape[0])\n",
    "    for i, specimen in enumerate(population):\n",
    "        majority_votes = stats.mode(classification_rules[specimen.astype(\"bool\")])[0]\n",
    "        scores[i] = sum(majority_votes[0] == image_expert[0])\n",
    "    return scores"
   ]
  },
  {
   "cell_type": "code",
   "execution_count": 27,
   "metadata": {
    "collapsed": true
   },
   "outputs": [],
   "source": [
    "pop = np.array((sp, sp2))"
   ]
  },
  {
   "cell_type": "code",
   "execution_count": 28,
   "metadata": {},
   "outputs": [
    {
     "data": {
      "text/plain": [
       "array([ 6034.,  7962.])"
      ]
     },
     "execution_count": 28,
     "metadata": {},
     "output_type": "execute_result"
    }
   ],
   "source": [
    "objective_function(pop)"
   ]
  },
  {
   "cell_type": "code",
   "execution_count": 29,
   "metadata": {
    "collapsed": true
   },
   "outputs": [],
   "source": [
    "def iterations_limit(max_iterations):\n",
    "    def stop_iteration(_, best_specimens):\n",
    "        current_iteration = len(best_specimens)\n",
    "        return current_iteration >= max_iterations\n",
    "    return stop_iteration"
   ]
  },
  {
   "cell_type": "code",
   "execution_count": 30,
   "metadata": {},
   "outputs": [],
   "source": [
    "model, best_specimens = pbil(objective_function, 300, 266, iterations_limit(5),\n",
    "                             0.01, 0.05, 0.01)"
   ]
  },
  {
   "cell_type": "code",
   "execution_count": 31,
   "metadata": {},
   "outputs": [
    {
     "data": {
      "text/plain": [
       "array([ 0.51489901,  0.48539502,  0.49500099,  0.50500099,  0.50460498,\n",
       "        0.50994902,  0.49539502,  0.49965694,  0.49500099,  0.48539502,\n",
       "        0.50519602,  0.49490199,  0.50005098,  0.49539502,  0.50480398,\n",
       "        0.49509801,  0.50480398,  0.49034603,  0.49024998,  0.51450498,\n",
       "        0.49509801,  0.48985594,  0.50470398,  0.49500099,  0.50500099,\n",
       "        0.49510099,  0.50509801,  0.49500099,  0.48519801,  0.50519602,\n",
       "        0.49480398,  0.49510099,  0.50470398,  0.49529602,  0.50509801,\n",
       "        0.49519801,  0.49494953,  0.50470398,  0.50519602,  0.49480398,\n",
       "        0.50499901,  0.50490199,  0.49509801,  0.52450498,  0.50509801,\n",
       "        0.50945893,  0.49985002,  0.52450498,  0.49544257,  0.49995098,\n",
       "        0.50470398,  0.52450498,  0.50489901,  0.48529602,  0.50499901,\n",
       "        0.51489901,  0.51965397,  0.50975594,  0.48529602,  0.51489901,\n",
       "        0.49510099,  0.50470398,  0.47549502,  0.49529602,  0.50994902,\n",
       "        0.50490199,  0.50014998,  0.47549502,  0.50489901,  0.48539502,\n",
       "        0.50470398,  0.49519602,  0.49480398,  0.50519602,  0.52450498,\n",
       "        0.51480199,  0.49975594,  0.50024406,  0.49490199,  0.49499901,\n",
       "        0.52925993,  0.50519602,  0.48519801,  0.49539502,  0.49529602,\n",
       "        0.49509801,  0.50480199,  0.49499901,  0.47549502,  0.50499901,\n",
       "        0.48519801,  0.47549502,  0.48529602,  0.48549502,  0.49529602,\n",
       "        0.49539502,  0.48985594,  0.50460498,  0.52925993,  0.50519602,\n",
       "        0.48510099,  0.47074007,  0.51460498,  0.49034306,  0.51460498,\n",
       "        0.49024603,  0.52450498,  0.50470398,  0.51460498,  0.48510099,\n",
       "        0.49509801,  0.49480398,  0.51450498,  0.50509801,  0.49519602,\n",
       "        0.50955893,  0.52450498,  0.48549502,  0.51470398,  0.49480398,\n",
       "        0.50500099,  0.49985594,  0.50480199,  0.49975594,  0.49480398,\n",
       "        0.47549502,  0.49499901,  0.49510099,  0.48510099,  0.50945893,\n",
       "        0.47549502,  0.49539502,  0.47549502,  0.49510099,  0.50519602,\n",
       "        0.50460498,  0.52450498,  0.48510099,  0.52925993,  0.50014998,\n",
       "        0.51470398,  0.51460498,  0.50965397,  0.50014703,  0.49965694,\n",
       "        0.50509801,  0.49500099,  0.52450498,  0.51460498,  0.49965694,\n",
       "        0.51489901,  0.51965397,  0.50460498,  0.52426434,  0.52450498,\n",
       "        0.50470398,  0.51470398,  0.50500099,  0.49510099,  0.50490199,\n",
       "        0.47563863,  0.50500099,  0.50955694,  0.49480398,  0.51489901,\n",
       "        0.49519602,  0.52925993,  0.49519801,  0.50489901,  0.51480199,\n",
       "        0.50480199,  0.50470398,  0.49539502,  0.50499901,  0.49024998,\n",
       "        0.50519602,  0.50014998,  0.51480199,  0.52450498,  0.49994902,\n",
       "        0.51945893,  0.51480199,  0.51925993,  0.48529602,  0.51470398,\n",
       "        0.50490199,  0.51485147,  0.47074007,  0.52925993,  0.50480199,\n",
       "        0.49529602,  0.49480398,  0.50480199,  0.50044107,  0.50005098,\n",
       "        0.50470398,  0.50490199,  0.48519801,  0.47549502,  0.49024406,\n",
       "        0.49500099,  0.48529602,  0.49519801,  0.48529602,  0.51480199,\n",
       "        0.48510099,  0.49519602,  0.50965694,  0.49490199,  0.48054107,\n",
       "        0.50519602,  0.49490199,  0.49509801,  0.51450498,  0.49539502,\n",
       "        0.50519602,  0.49490199,  0.52445743,  0.48519801,  0.49500099,\n",
       "        0.48510099,  0.51416633,  0.51945893,  0.50975397,  0.50490199,\n",
       "        0.49500099,  0.49519801,  0.49510099,  0.48539502,  0.49509801,\n",
       "        0.50470398,  0.49490199,  0.49519602,  0.49510099,  0.47549502,\n",
       "        0.49529602,  0.49529602,  0.52450498,  0.49490199,  0.509606  ,\n",
       "        0.47549502,  0.50004902,  0.52450498,  0.50490199,  0.48995297,\n",
       "        0.50500099,  0.48573367,  0.48074007,  0.48529602,  0.49975594,\n",
       "        0.49519801,  0.50975397,  0.51489901,  0.48054107,  0.49985297,\n",
       "        0.49510099,  0.49509801,  0.50490199,  0.48519801,  0.49509801,\n",
       "        0.49509801,  0.51489901,  0.47549502,  0.49500099,  0.50489901,\n",
       "        0.50499901])"
      ]
     },
     "execution_count": 31,
     "metadata": {},
     "output_type": "execute_result"
    }
   ],
   "source": [
    "model"
   ]
  },
  {
   "cell_type": "code",
   "execution_count": 32,
   "metadata": {},
   "outputs": [
    {
     "data": {
      "text/plain": [
       "array([[False, False,  True, ...,  True, False, False],\n",
       "       [ True, False, False, ..., False,  True,  True],\n",
       "       [ True, False, False, ..., False,  True,  True],\n",
       "       [ True,  True,  True, ...,  True,  True, False],\n",
       "       [ True, False, False, ..., False, False,  True]], dtype=bool)"
      ]
     },
     "execution_count": 32,
     "metadata": {},
     "output_type": "execute_result"
    }
   ],
   "source": [
    "best_specimens"
   ]
  },
  {
   "cell_type": "code",
   "execution_count": 33,
   "metadata": {},
   "outputs": [
    {
     "data": {
      "text/plain": [
       "[<matplotlib.lines.Line2D at 0x7fa6eeffd400>]"
      ]
     },
     "execution_count": 33,
     "metadata": {},
     "output_type": "execute_result"
    },
    {
     "data": {
      "image/png": "[encoded data removed]",
      "text/plain": [
       "<matplotlib.figure.Figure at 0x7fa6ee26fdd8>"
      ]
     },
     "metadata": {},
     "output_type": "display_data"
    }
   ],
   "source": [
    "pyplot.plot(population_evaluation(best_specimens, objective_function))"
   ]
  },
  {
   "cell_type": "code",
   "execution_count": 35,
   "metadata": {},
   "outputs": [],
   "source": [
    "model, best_specimens = pbil(objective_function, 300, 266, iterations_limit(1000),\n",
    "                             0.01, 0.05, 0.01)"
   ]
  },
  {
   "cell_type": "code",
   "execution_count": 36,
   "metadata": {},
   "outputs": [
    {
     "data": {
      "text/plain": [
       "array([ 0.56827881,  0.85002242,  0.71395559,  0.86454945,  0.02399722,\n",
       "        0.64903288,  0.44740631,  0.62087089,  0.47328943,  0.69276153,\n",
       "        0.20723426,  0.39088359,  0.33073622,  0.40985307,  0.27145502,\n",
       "        0.32801242,  0.558193  ,  0.30448804,  0.28776062,  0.29611227,\n",
       "        0.38788135,  0.13059438,  0.09706187,  0.21664286,  0.28299754,\n",
       "        0.16650879,  0.34341131,  0.236241  ,  0.22385512,  0.28335517,\n",
       "        0.24512882,  0.24686333,  0.14997365,  0.13484884,  0.32573402,\n",
       "        0.4500822 ,  0.56488249,  0.65288223,  0.77531084,  0.03265069,\n",
       "        0.72826227,  0.74079852,  0.48136653,  0.92764549,  0.48402407,\n",
       "        0.53539089,  0.82322884,  0.17870642,  0.68182614,  0.69297715,\n",
       "        0.69605682,  0.87308819,  0.15336548,  0.1951174 ,  0.14407134,\n",
       "        0.21281758,  0.17230265,  0.14149374,  0.28800355,  0.18402601,\n",
       "        0.14670386,  0.23723505,  0.09038857,  0.16343819,  0.15878733,\n",
       "        0.15736215,  0.39477295,  0.23267338,  0.43047872,  0.70977623,\n",
       "        0.72968637,  0.3743948 ,  0.61542152,  0.76522959,  0.88428755,\n",
       "        0.755317  ,  0.11204668,  0.80695146,  0.2921347 ,  0.82603009,\n",
       "        0.69929602,  0.39704744,  0.3360725 ,  0.61313701,  0.42567367,\n",
       "        0.48558029,  0.6716291 ,  0.56033401,  0.31322965,  0.19951937,\n",
       "        0.41114364,  0.62938625,  0.4571155 ,  0.66578522,  0.34365423,\n",
       "        0.52117793,  0.62310763,  0.82657748,  0.65268245,  0.92269713,\n",
       "        0.65937005,  0.68846417,  0.95711086,  0.70523377,  0.77504939,\n",
       "        0.26760583,  0.83446296,  0.94878938,  0.37549963,  0.4829348 ,\n",
       "        0.36428953,  0.49645872,  0.46500965,  0.28836459,  0.53155868,\n",
       "        0.24377576,  0.76069773,  0.57908295,  0.66443969,  0.87406761,\n",
       "        0.82362859,  0.86126988,  0.20334573,  0.24276394,  0.10477235,\n",
       "        0.15296558,  0.07198325,  0.17873685,  0.13731656,  0.92020459,\n",
       "        0.58876044,  0.6647128 ,  0.84322362,  0.57321332,  0.72490019,\n",
       "        0.60932211,  0.35002782,  0.47362477,  0.78531029,  0.69132291,\n",
       "        0.8485772 ,  0.60374556,  0.8329171 ,  0.76484638,  0.83128708,\n",
       "        0.7677509 ,  0.48900442,  0.76726923,  0.76080567,  0.71836331,\n",
       "        0.84886487,  0.82859009,  0.76693459,  0.67812873,  0.88632209,\n",
       "        0.97833524,  0.80208832,  0.59936663,  0.55712778,  0.89424269,\n",
       "        0.72489302,  0.74661316,  0.60617362,  0.45654726,  0.90962869,\n",
       "        0.30144341,  0.0629726 ,  0.70967609,  0.77900277,  0.74603632,\n",
       "        0.36008836,  0.82126285,  0.77897905,  0.77479853,  0.77504393,\n",
       "        0.80609653,  0.82851804,  0.7861075 ,  0.69226307,  0.80875025,\n",
       "        0.59511318,  0.57432125,  0.52102901,  0.42020005,  0.25145212,\n",
       "        0.30471667,  0.13785628,  0.40918555,  0.38097103,  0.01349545,\n",
       "        0.1870749 ,  0.33286593,  0.58604826,  0.44714922,  0.26572473,\n",
       "        0.12710277,  0.48829573,  0.24542375,  0.318945  ,  0.29261782,\n",
       "        0.58840798,  0.23880517,  0.33301435,  0.37074201,  0.88982418,\n",
       "        0.56976746,  0.17671028,  0.21782416,  0.06286143,  0.57741549,\n",
       "        0.49619879,  0.20883236,  0.16579724,  0.09656974,  0.10972448,\n",
       "        0.90083316,  0.35045376,  0.24782959,  0.31555248,  0.17225961,\n",
       "        0.07431625,  0.05777179,  0.05277593,  0.12944591,  0.72709656,\n",
       "        0.12227299,  0.13030715,  0.89221445,  0.11998686,  0.34530885,\n",
       "        0.11772968,  0.18526405,  0.12554171,  0.1823933 ,  0.2104613 ,\n",
       "        0.14962499,  0.23766079,  0.68870343,  0.82574706,  0.04606609,\n",
       "        0.07811843,  0.18296005,  0.22653531,  0.14721101,  0.21179288,\n",
       "        0.10118691,  0.13090374,  0.41372832,  0.15707255,  0.18429449,\n",
       "        0.17285466,  0.40204488,  0.18826698,  0.1420632 ,  0.03510873,\n",
       "        0.20125883,  0.23847956,  0.26127589,  0.16577681,  0.19817886,\n",
       "        0.07317902,  0.24285329,  0.34777742,  0.23246198,  0.36544185,\n",
       "        0.3232818 ])"
      ]
     },
     "execution_count": 36,
     "metadata": {},
     "output_type": "execute_result"
    }
   ],
   "source": [
    "model"
   ]
  },
  {
   "cell_type": "code",
   "execution_count": 37,
   "metadata": {},
   "outputs": [
    {
     "data": {
      "text/plain": [
       "[<matplotlib.lines.Line2D at 0x7fa6ef1d9080>]"
      ]
     },
     "execution_count": 37,
     "metadata": {},
     "output_type": "execute_result"
    },
    {
     "data": {
      "image/png": "[encoded data removed]",
      "text/plain": [
       "<matplotlib.figure.Figure at 0x7fa6ef01c2e8>"
      ]
     },
     "metadata": {},
     "output_type": "display_data"
    }
   ],
   "source": [
    "pyplot.plot(population_evaluation(best_specimens, objective_function))"
   ]
  },
  {
   "cell_type": "code",
   "execution_count": null,
   "metadata": {
    "collapsed": true
   },
   "outputs": [],
   "source": []
  }
 ],
 "metadata": {
  "kernelspec": {
   "display_name": "Python 3",
   "language": "python",
   "name": "python3"
  },
  "language_info": {
   "codemirror_mode": {
    "name": "ipython",
    "version": 3
   },
   "file_extension": ".py",
   "mimetype": "text/x-python",
   "name": "python",
   "nbconvert_exporter": "python",
   "pygments_lexer": "ipython3",
   "version": "3.6.3"
  }
 },
 "nbformat": 4,
 "nbformat_minor": 1
}
