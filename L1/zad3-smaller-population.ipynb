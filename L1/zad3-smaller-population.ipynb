{
 "cells": [
  {
   "cell_type": "code",
   "execution_count": 1,
   "metadata": {
    "collapsed": true
   },
   "outputs": [],
   "source": [
    "import numpy as np\n",
    "import pandas\n",
    "from scipy import stats\n",
    "import matplotlib.pyplot as pyplot\n",
    "\n",
    "from pbil import pbil, population_evaluation\n",
    "%matplotlib inline"
   ]
  },
  {
   "cell_type": "code",
   "execution_count": 2,
   "metadata": {
    "collapsed": true
   },
   "outputs": [],
   "source": [
    "image = pandas.read_csv(\"data/ImageRawReduced.txt\", sep=\"\\s+\", header=None)"
   ]
  },
  {
   "cell_type": "code",
   "execution_count": 3,
   "metadata": {},
   "outputs": [
    {
     "name": "stdout",
     "output_type": "stream",
     "text": [
      "   0     1     2     3     4     5     6     7     8     9     ...   9340  \\\n",
      "0  26.0  29.0  33.0  34.0  33.0  27.0  30.0  26.0  30.0  29.0  ...   37.0   \n",
      "1  16.0  23.0  24.0  28.0  22.0  21.0  25.0  17.0  21.0  19.0  ...   27.0   \n",
      "2  75.0  68.0  86.0  87.0  81.0  71.0  76.0  78.0  90.0  74.0  ...   23.0   \n",
      "\n",
      "   9341  9342  9343  9344  9345  9346  9347  9348  9349  \n",
      "0  39.0  42.0  38.0  35.0  36.0  36.0  34.0  31.0  41.0  \n",
      "1  30.0  30.0  26.0  25.0  26.0  26.0  22.0  26.0  30.0  \n",
      "2  26.0  25.0  22.0  21.0  22.0  21.0  20.0  25.0  23.0  \n",
      "\n",
      "[3 rows x 9350 columns]\n"
     ]
    }
   ],
   "source": [
    "print(image.head())"
   ]
  },
  {
   "cell_type": "code",
   "execution_count": 4,
   "metadata": {
    "collapsed": true
   },
   "outputs": [],
   "source": [
    "image_expert = pandas.read_csv(\"data/ImageExpertReduced.txt\", sep=\"\\s+\", header=None)"
   ]
  },
  {
   "cell_type": "code",
   "execution_count": 5,
   "metadata": {},
   "outputs": [
    {
     "name": "stdout",
     "output_type": "stream",
     "text": [
      "   0     1     2     3     4     5     6     7     8     9     ...   9340  \\\n",
      "0   1.0   1.0   1.0   1.0   1.0   1.0   1.0   1.0   1.0   1.0  ...    3.0   \n",
      "\n",
      "   9341  9342  9343  9344  9345  9346  9347  9348  9349  \n",
      "0   3.0   3.0   3.0   3.0   3.0   3.0   3.0   3.0   3.0  \n",
      "\n",
      "[1 rows x 9350 columns]\n"
     ]
    }
   ],
   "source": [
    "print(image_expert.head())"
   ]
  },
  {
   "cell_type": "code",
   "execution_count": 6,
   "metadata": {
    "collapsed": true
   },
   "outputs": [],
   "source": [
    "classification_rules = pandas.read_csv(\"data/ClassificationRules.txt\", sep=\"\\s+\", header=None)"
   ]
  },
  {
   "cell_type": "code",
   "execution_count": 7,
   "metadata": {},
   "outputs": [
    {
     "name": "stdout",
     "output_type": "stream",
     "text": [
      "   0     1     2     3     4     5     6     7     8     9     ...   9340  \\\n",
      "0   1.0   1.0   1.0   1.0   1.0   1.0   1.0   1.0   1.0   1.0  ...    1.0   \n",
      "1   1.0   1.0   1.0   1.0   1.0   1.0   1.0   1.0   1.0   1.0  ...    3.0   \n",
      "2   1.0   1.0   1.0   1.0   1.0   1.0   1.0   1.0   1.0   1.0  ...    2.0   \n",
      "3   1.0   1.0   1.0   1.0   1.0   1.0   1.0   1.0   1.0   1.0  ...    2.0   \n",
      "4   1.0   1.0   1.0   1.0   1.0   1.0   1.0   1.0   1.0   1.0  ...    2.0   \n",
      "\n",
      "   9341  9342  9343  9344  9345  9346  9347  9348  9349  \n",
      "0   3.0   3.0   1.0   1.0   1.0   1.0   1.0   1.0   3.0  \n",
      "1   3.0   3.0   3.0   3.0   3.0   3.0   3.0   3.0   3.0  \n",
      "2   2.0   2.0   2.0   2.0   2.0   2.0   2.0   2.0   2.0  \n",
      "3   2.0   2.0   2.0   2.0   2.0   2.0   2.0   2.0   2.0  \n",
      "4   2.0   2.0   2.0   2.0   2.0   2.0   2.0   2.0   2.0  \n",
      "\n",
      "[5 rows x 9350 columns]\n"
     ]
    }
   ],
   "source": [
    "print(classification_rules.head())"
   ]
  },
  {
   "cell_type": "code",
   "execution_count": 8,
   "metadata": {},
   "outputs": [
    {
     "name": "stdout",
     "output_type": "stream",
     "text": [
      "(266, 9350)\n"
     ]
    }
   ],
   "source": [
    "print(classification_rules.shape)"
   ]
  },
  {
   "cell_type": "code",
   "execution_count": 9,
   "metadata": {},
   "outputs": [
    {
     "name": "stdout",
     "output_type": "stream",
     "text": [
      "[[ 1.  1.  1. ...,  3.  3.  3.]\n",
      " [ 1.  1.  1. ...,  1.  1.  3.]\n",
      " [ 1.  1.  1. ...,  2.  2.  2.]\n",
      " [ 1.  1.  1. ...,  2.  2.  2.]]\n"
     ]
    }
   ],
   "source": [
    "print(classification_rules.as_matrix()[(1,0,3,4), :])"
   ]
  },
  {
   "cell_type": "code",
   "execution_count": 10,
   "metadata": {},
   "outputs": [
    {
     "name": "stdout",
     "output_type": "stream",
     "text": [
      "[[ 1.  2.  1. ...,  3.  3.  3.]] (1, 9350)\n"
     ]
    }
   ],
   "source": [
    "majority_votes = stats.mode(classification_rules.as_matrix())[0]\n",
    "print(majority_votes, majority_votes.shape)"
   ]
  },
  {
   "cell_type": "code",
   "execution_count": 11,
   "metadata": {},
   "outputs": [
    {
     "name": "stdout",
     "output_type": "stream",
     "text": [
      "   0     1     2     3     4     5     6     7     8     9     ...   9340  \\\n",
      "0   1.0   1.0   1.0   1.0   1.0   1.0   1.0   1.0   1.0   1.0  ...    3.0   \n",
      "\n",
      "   9341  9342  9343  9344  9345  9346  9347  9348  9349  \n",
      "0   3.0   3.0   3.0   3.0   3.0   3.0   3.0   3.0   3.0  \n",
      "\n",
      "[1 rows x 9350 columns]\n"
     ]
    }
   ],
   "source": [
    "print(image_expert)"
   ]
  },
  {
   "cell_type": "code",
   "execution_count": 12,
   "metadata": {},
   "outputs": [
    {
     "data": {
      "text/plain": [
       "array([[ True, False,  True, ...,  True,  True,  True]], dtype=bool)"
      ]
     },
     "execution_count": 12,
     "metadata": {},
     "output_type": "execute_result"
    }
   ],
   "source": [
    "(majority_votes == image_expert.as_matrix())"
   ]
  },
  {
   "cell_type": "code",
   "execution_count": 13,
   "metadata": {},
   "outputs": [
    {
     "data": {
      "text/plain": [
       "0.85155080213903744"
      ]
     },
     "execution_count": 13,
     "metadata": {},
     "output_type": "execute_result"
    }
   ],
   "source": [
    "np.sum(majority_votes == image_expert.as_matrix()) / majority_votes.shape[1]"
   ]
  },
  {
   "cell_type": "code",
   "execution_count": 14,
   "metadata": {},
   "outputs": [
    {
     "name": "stdout",
     "output_type": "stream",
     "text": [
      "(1, 9350)\n"
     ]
    }
   ],
   "source": [
    "print(image_expert.as_matrix().shape)"
   ]
  },
  {
   "cell_type": "code",
   "execution_count": 15,
   "metadata": {},
   "outputs": [
    {
     "data": {
      "text/plain": [
       "7962"
      ]
     },
     "execution_count": 15,
     "metadata": {},
     "output_type": "execute_result"
    }
   ],
   "source": [
    "np.sum(majority_votes == image_expert.as_matrix())"
   ]
  },
  {
   "cell_type": "code",
   "execution_count": 16,
   "metadata": {},
   "outputs": [
    {
     "data": {
      "text/plain": [
       "array([ 0.64534759,  0.70385027,  0.47026738,  0.47604278,  0.47090909,\n",
       "        0.49187166,  0.53390374,  0.4768984 ,  0.58203209,  0.62534759,\n",
       "        0.66256684,  0.68342246,  0.69786096,  0.69796791,  0.70406417,\n",
       "        0.70791444,  0.71037433,  0.71069519,  0.71165775,  0.71176471,\n",
       "        0.71219251,  0.71304813,  0.71315508,  0.71347594,  0.50342246,\n",
       "        0.71315508,  0.71358289,  0.71368984,  0.71368984,  0.71368984,\n",
       "        0.71368984,  0.71379679,  0.71379679,  0.71379679,  0.71379679,\n",
       "        0.58181818,  0.47636364,  0.48673797,  0.49486631,  0.48973262,\n",
       "        0.50331551,  0.51229947,  0.52064171,  0.52802139,  0.5344385 ,\n",
       "        0.53518717,  0.53550802,  0.5428877 ,  0.54438503,  0.54438503,\n",
       "        0.55122995,  0.55828877,  0.71358289,  0.71358289,  0.71358289,\n",
       "        0.71358289,  0.71347594,  0.71347594,  0.71358289,  0.71347594,\n",
       "        0.71347594,  0.71347594,  0.71336898,  0.71326203,  0.71283422,\n",
       "        0.67850267,  0.71165775,  0.71176471,  0.68106952,  0.48983957,\n",
       "        0.54609626,  0.50128342,  0.57636364,  0.56417112,  0.48855615,\n",
       "        0.56994652,  0.71315508,  0.71304813,  0.71283422,  0.48363636,\n",
       "        0.57582888,  0.70652406,  0.5744385 ,  0.4913369 ,  0.52983957,\n",
       "        0.57411765,  0.5744385 ,  0.60673797,  0.60898396,  0.60898396,\n",
       "        0.59368984,  0.68566845,  0.59347594,  0.63144385,  0.63122995,\n",
       "        0.63101604,  0.56491979,  0.52631016,  0.52609626,  0.48074866,\n",
       "        0.6573262 ,  0.7086631 ,  0.53069519,  0.48823529,  0.50652406,\n",
       "        0.67935829,  0.48631016,  0.52449198,  0.48459893,  0.65283422,\n",
       "        0.58010695,  0.58502674,  0.57807487,  0.58684492,  0.58663102,\n",
       "        0.58941176,  0.58930481,  0.59208556,  0.59315508,  0.47283422,\n",
       "        0.62481283,  0.49497326,  0.71197861,  0.7115508 ,  0.71090909,\n",
       "        0.71069519,  0.71026738,  0.70919786,  0.70834225,  0.66363636,\n",
       "        0.62128342,  0.55775401,  0.4997861 ,  0.59379679,  0.59390374,\n",
       "        0.59272727,  0.59197861,  0.59101604,  0.59048128,  0.52909091,\n",
       "        0.58673797,  0.58395722,  0.58096257,  0.58085561,  0.57636364,\n",
       "        0.56994652,  0.4859893 ,  0.56181818,  0.56171123,  0.52566845,\n",
       "        0.54909091,  0.54887701,  0.53090909,  0.50534759,  0.48235294,\n",
       "        0.48278075,  0.48342246,  0.6173262 ,  0.57957219,  0.59935829,\n",
       "        0.58951872,  0.56203209,  0.53700535,  0.58877005,  0.48823529,\n",
       "        0.52909091,  0.49871658,  0.53283422,  0.53272727,  0.57294118,\n",
       "        0.60534759,  0.60566845,  0.62192513,  0.63080214,  0.63240642,\n",
       "        0.63272727,  0.62941176,  0.62352941,  0.6197861 ,  0.62      ,\n",
       "        0.61358289,  0.60812834,  0.60331551,  0.58673797,  0.58042781,\n",
       "        0.5740107 ,  0.56684492,  0.55871658,  0.55893048,  0.52363636,\n",
       "        0.55037433,  0.54395722,  0.5371123 ,  0.5373262 ,  0.52973262,\n",
       "        0.52395722,  0.5484492 ,  0.51304813,  0.50491979,  0.49647059,\n",
       "        0.48737968,  0.47903743,  0.47893048,  0.47165775,  0.6286631 ,\n",
       "        0.4826738 ,  0.50898396,  0.48620321,  0.49026738,  0.5342246 ,\n",
       "        0.53326203,  0.53935829,  0.50203209,  0.52684492,  0.50491979,\n",
       "        0.56278075,  0.5144385 ,  0.51454545,  0.50427807,  0.50331551,\n",
       "        0.5031016 ,  0.49518717,  0.49187166,  0.49197861,  0.52053476,\n",
       "        0.49807487,  0.51080214,  0.48224599,  0.48481283,  0.56609626,\n",
       "        0.46962567,  0.47818182,  0.48524064,  0.47561497,  0.47700535,\n",
       "        0.46823529,  0.69935829,  0.55165775,  0.5942246 ,  0.57016043,\n",
       "        0.70748663,  0.5344385 ,  0.70620321,  0.70417112,  0.70245989,\n",
       "        0.70096257,  0.52748663,  0.69946524,  0.69112299,  0.69721925,\n",
       "        0.69518717,  0.69240642,  0.68438503,  0.67786096,  0.53657754,\n",
       "        0.66973262,  0.65700535,  0.63882353,  0.61304813,  0.59112299,\n",
       "        0.54235294,  0.54213904,  0.51882353,  0.51882353,  0.49572193,\n",
       "        0.46951872])"
      ]
     },
     "execution_count": 16,
     "metadata": {},
     "output_type": "execute_result"
    }
   ],
   "source": [
    "data = np.zeros(classification_rules.as_matrix().shape[0])\n",
    "for i in range(classification_rules.as_matrix().shape[0]):\n",
    "    data[i] = sum(classification_rules.as_matrix()[i] == image_expert.as_matrix()[0]\n",
    "                  ) / majority_votes.shape[1]\n",
    "data"
   ]
  },
  {
   "cell_type": "code",
   "execution_count": 17,
   "metadata": {},
   "outputs": [
    {
     "data": {
      "text/plain": [
       "[<matplotlib.lines.Line2D at 0x7f714f5a8dd8>]"
      ]
     },
     "execution_count": 17,
     "metadata": {},
     "output_type": "execute_result"
    },
    {
     "data": {
      "image/png": "[encoded data removed]",
      "text/plain": [
       "<matplotlib.figure.Figure at 0x7f714f58c710>"
      ]
     },
     "metadata": {},
     "output_type": "display_data"
    }
   ],
   "source": [
    "pyplot.plot(data)"
   ]
  },
  {
   "cell_type": "code",
   "execution_count": 18,
   "metadata": {
    "collapsed": true
   },
   "outputs": [],
   "source": [
    "image_expert = image_expert.as_matrix()\n",
    "classification_rules = classification_rules.as_matrix()"
   ]
  },
  {
   "cell_type": "code",
   "execution_count": 19,
   "metadata": {},
   "outputs": [
    {
     "data": {
      "text/plain": [
       "6034"
      ]
     },
     "execution_count": 19,
     "metadata": {},
     "output_type": "execute_result"
    }
   ],
   "source": [
    "sp = np.zeros(classification_rules.shape[0]).astype(\"bool\")\n",
    "sp[0] = True\n",
    "sp2 = np.ones(classification_rules.shape[0]).astype(\"bool\")\n",
    "majority_votes = stats.mode(classification_rules[sp])[0]\n",
    "sum(majority_votes[0] == image_expert[0])"
   ]
  },
  {
   "cell_type": "code",
   "execution_count": 20,
   "metadata": {},
   "outputs": [
    {
     "data": {
      "text/plain": [
       "ModeResult(mode=array([[ 1.,  1.,  1., ...,  1.,  1.,  3.]]), count=array([[1, 1, 1, ..., 1, 1, 1]]))"
      ]
     },
     "execution_count": 20,
     "metadata": {},
     "output_type": "execute_result"
    }
   ],
   "source": [
    "stats.mode(classification_rules[(sp)])"
   ]
  },
  {
   "cell_type": "code",
   "execution_count": 21,
   "metadata": {},
   "outputs": [
    {
     "data": {
      "text/plain": [
       "array([[ 1.,  1.,  1., ...,  3.,  3.,  3.]])"
      ]
     },
     "execution_count": 21,
     "metadata": {},
     "output_type": "execute_result"
    }
   ],
   "source": [
    "image_expert"
   ]
  },
  {
   "cell_type": "code",
   "execution_count": 22,
   "metadata": {},
   "outputs": [
    {
     "data": {
      "text/plain": [
       "array([[ 1.,  1.,  1., ...,  1.,  1.,  3.]])"
      ]
     },
     "execution_count": 22,
     "metadata": {},
     "output_type": "execute_result"
    }
   ],
   "source": [
    "classification_rules[sp.astype(\"bool\")]"
   ]
  },
  {
   "cell_type": "code",
   "execution_count": 23,
   "metadata": {},
   "outputs": [
    {
     "data": {
      "text/plain": [
       "array([[ 1.,  1.,  1., ...,  1.,  1.,  3.]])"
      ]
     },
     "execution_count": 23,
     "metadata": {},
     "output_type": "execute_result"
    }
   ],
   "source": [
    "stats.mode(classification_rules[sp.astype(\"bool\")])[0]"
   ]
  },
  {
   "cell_type": "code",
   "execution_count": 24,
   "metadata": {
    "collapsed": true
   },
   "outputs": [],
   "source": [
    "def objective_function(population):\n",
    "    scores = np.zeros(population.shape[0])\n",
    "    for i, specimen in enumerate(population):\n",
    "        majority_votes = stats.mode(classification_rules[specimen.astype(\"bool\")])[0]\n",
    "        scores[i] = sum(majority_votes[0] == image_expert[0])\n",
    "    return scores"
   ]
  },
  {
   "cell_type": "code",
   "execution_count": 25,
   "metadata": {
    "collapsed": true
   },
   "outputs": [],
   "source": [
    "pop = np.array((sp, sp2))"
   ]
  },
  {
   "cell_type": "code",
   "execution_count": 26,
   "metadata": {},
   "outputs": [
    {
     "data": {
      "text/plain": [
       "array([ 6034.,  7962.])"
      ]
     },
     "execution_count": 26,
     "metadata": {},
     "output_type": "execute_result"
    }
   ],
   "source": [
    "objective_function(pop)"
   ]
  },
  {
   "cell_type": "code",
   "execution_count": 27,
   "metadata": {
    "collapsed": true
   },
   "outputs": [],
   "source": [
    "def iterations_limit(max_iterations):\n",
    "    def stop_iteration(_, best_specimens):\n",
    "        current_iteration = len(best_specimens)\n",
    "        return current_iteration >= max_iterations\n",
    "    return stop_iteration"
   ]
  },
  {
   "cell_type": "code",
   "execution_count": 29,
   "metadata": {},
   "outputs": [
    {
     "data": {
      "text/plain": [
       "array([ 0.25209766,  0.38499235,  0.7813934 ,  0.74352664,  0.12624003,\n",
       "        0.56091486,  0.46426748,  0.52543437,  0.40987204,  0.51119369,\n",
       "        0.43801941,  0.36619049,  0.24766468,  0.41753253,  0.46498823,\n",
       "        0.52170593,  0.52370058,  0.41084355,  0.33233607,  0.37200612,\n",
       "        0.43479822,  0.25037392,  0.30792443,  0.12700513,  0.24818699,\n",
       "        0.44027062,  0.29789409,  0.19154039,  0.21175081,  0.19721272,\n",
       "        0.18996522,  0.26582571,  0.2080257 ,  0.26449244,  0.21408891,\n",
       "        0.51518339,  0.61751655,  0.64794574,  0.75086372,  0.16414863,\n",
       "        0.6991953 ,  0.80068594,  0.62179418,  0.77105936,  0.62793462,\n",
       "        0.6413269 ,  0.76121187,  0.64214642,  0.73255766,  0.73503279,\n",
       "        0.74905392,  0.69273582,  0.28404914,  0.35367861,  0.19633437,\n",
       "        0.29092086,  0.21109927,  0.19711717,  0.2467346 ,  0.19294332,\n",
       "        0.20444655,  0.29308069,  0.22450698,  0.23317384,  0.46488661,\n",
       "        0.26001464,  0.43699687,  0.26807798,  0.32215303,  0.54272414,\n",
       "        0.37365369,  0.44585624,  0.55991103,  0.58726052,  0.54653817,\n",
       "        0.70154752,  0.09534066,  0.68434552,  0.21741551,  0.66464038,\n",
       "        0.60141355,  0.60385923,  0.3114923 ,  0.47410695,  0.26022893,\n",
       "        0.27182408,  0.44335093,  0.60878672,  0.67064227,  0.27577795,\n",
       "        0.48795224,  0.49232673,  0.37788054,  0.27422663,  0.37735381,\n",
       "        0.57965381,  0.46028114,  0.42036684,  0.32842777,  0.835423  ,\n",
       "        0.527347  ,  0.25007436,  0.78633587,  0.54166998,  0.75082256,\n",
       "        0.36186819,  0.77157037,  0.81020879,  0.2426345 ,  0.55647965,\n",
       "        0.82882145,  0.72526716,  0.56839469,  0.72507988,  0.37477495,\n",
       "        0.61822796,  0.56235226,  0.56768903,  0.70188272,  0.84756314,\n",
       "        0.34449433,  0.35962858,  0.29625549,  0.17767683,  0.18157495,\n",
       "        0.30552684,  0.19624143,  0.19355314,  0.33870408,  0.59246624,\n",
       "        0.41543881,  0.24432649,  0.56130525,  0.79793026,  0.71714703,\n",
       "        0.66684639,  0.50739393,  0.88513745,  0.82928907,  0.73832464,\n",
       "        0.84279268,  0.78754571,  0.70375253,  0.70359264,  0.83403508,\n",
       "        0.75864641,  0.79339727,  0.81285103,  0.50325755,  0.56597302,\n",
       "        0.81282945,  0.73096795,  0.80254237,  0.65910058,  0.80356654,\n",
       "        0.9523211 ,  0.79254905,  0.79415544,  0.54681839,  0.81250638,\n",
       "        0.56405246,  0.66578023,  0.49125432,  0.5004036 ,  0.82200076,\n",
       "        0.3901715 ,  0.18518941,  0.68310065,  0.64524471,  0.86390336,\n",
       "        0.51903491,  0.67851783,  0.88772595,  0.43459379,  0.84701158,\n",
       "        0.5563979 ,  0.68201549,  0.69980336,  0.66722664,  0.5563984 ,\n",
       "        0.59742246,  0.667974  ,  0.41106198,  0.47029479,  0.43163108,\n",
       "        0.47112649,  0.63060624,  0.45937766,  0.36649431,  0.05167865,\n",
       "        0.52465266,  0.32512335,  0.25039539,  0.2876403 ,  0.29829489,\n",
       "        0.26444249,  0.54860505,  0.4018424 ,  0.30268146,  0.36920597,\n",
       "        0.31655891,  0.28197954,  0.35843187,  0.4003431 ,  0.75038787,\n",
       "        0.4497451 ,  0.59821011,  0.25345798,  0.14943759,  0.47905842,\n",
       "        0.29983238,  0.44167668,  0.18815171,  0.28658453,  0.14988279,\n",
       "        0.78843587,  0.32725266,  0.30298691,  0.21006743,  0.17045199,\n",
       "        0.28202652,  0.1461867 ,  0.11971589,  0.181507  ,  0.65625153,\n",
       "        0.2109605 ,  0.18852764,  0.48511173,  0.15072065,  0.41211057,\n",
       "        0.24473893,  0.16181934,  0.36808573,  0.65767256,  0.53170318,\n",
       "        0.25020135,  0.23926595,  0.65275789,  0.70221864,  0.2351155 ,\n",
       "        0.06711404,  0.18827683,  0.36151006,  0.27924665,  0.29265805,\n",
       "        0.24144948,  0.1925114 ,  0.2180034 ,  0.28405399,  0.40470204,\n",
       "        0.16442012,  0.4634604 ,  0.29050622,  0.2278195 ,  0.13460212,\n",
       "        0.2579096 ,  0.2685301 ,  0.35891703,  0.38694003,  0.28031272,\n",
       "        0.24341985,  0.16579215,  0.2126823 ,  0.27761815,  0.20742654,\n",
       "        0.37751185])"
      ]
     },
     "execution_count": 29,
     "metadata": {},
     "output_type": "execute_result"
    }
   ],
   "source": [
    "model, best_specimens = pbil(objective_function, 200, 266, iterations_limit(500),\n",
    "                             0.01, 0.05, 0.01)\n",
    "model"
   ]
  },
  {
   "cell_type": "code",
   "execution_count": 30,
   "metadata": {},
   "outputs": [
    {
     "data": {
      "text/plain": [
       "[<matplotlib.lines.Line2D at 0x7f714e0dfd68>]"
      ]
     },
     "execution_count": 30,
     "metadata": {},
     "output_type": "execute_result"
    },
    {
     "data": {
      "image/png": "[encoded data removed]",
      "text/plain": [
       "<matplotlib.figure.Figure at 0x7f714d00fc88>"
      ]
     },
     "metadata": {},
     "output_type": "display_data"
    }
   ],
   "source": [
    "pyplot.plot(population_evaluation(best_specimens, objective_function))"
   ]
  },
  {
   "cell_type": "code",
   "execution_count": null,
   "metadata": {
    "collapsed": true
   },
   "outputs": [],
   "source": []
  }
 ],
 "metadata": {
  "kernelspec": {
   "display_name": "Python 3",
   "language": "python",
   "name": "python3"
  },
  "language_info": {
   "codemirror_mode": {
    "name": "ipython",
    "version": 3
   },
   "file_extension": ".py",
   "mimetype": "text/x-python",
   "name": "python",
   "nbconvert_exporter": "python",
   "pygments_lexer": "ipython3",
   "version": "3.6.3"
  }
 },
 "nbformat": 4,
 "nbformat_minor": 1
}
