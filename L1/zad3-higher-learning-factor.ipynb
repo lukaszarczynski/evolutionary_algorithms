{
 "cells": [
  {
   "cell_type": "code",
   "execution_count": 3,
   "metadata": {
    "collapsed": true
   },
   "outputs": [],
   "source": [
    "import numpy as np\n",
    "import pandas\n",
    "from scipy import stats\n",
    "import matplotlib.pyplot as pyplot\n",
    "\n",
    "from pbil import pbil, population_evaluation\n",
    "%matplotlib inline"
   ]
  },
  {
   "cell_type": "code",
   "execution_count": 4,
   "metadata": {
    "collapsed": true
   },
   "outputs": [],
   "source": [
    "image = pandas.read_csv(\"data/ImageRawReduced.txt\", sep=\"\\s+\", header=None)"
   ]
  },
  {
   "cell_type": "code",
   "execution_count": 5,
   "metadata": {},
   "outputs": [
    {
     "name": "stdout",
     "output_type": "stream",
     "text": [
      "   0     1     2     3     4     5     6     7     8     9     ...   9340  \\\n",
      "0  26.0  29.0  33.0  34.0  33.0  27.0  30.0  26.0  30.0  29.0  ...   37.0   \n",
      "1  16.0  23.0  24.0  28.0  22.0  21.0  25.0  17.0  21.0  19.0  ...   27.0   \n",
      "2  75.0  68.0  86.0  87.0  81.0  71.0  76.0  78.0  90.0  74.0  ...   23.0   \n",
      "\n",
      "   9341  9342  9343  9344  9345  9346  9347  9348  9349  \n",
      "0  39.0  42.0  38.0  35.0  36.0  36.0  34.0  31.0  41.0  \n",
      "1  30.0  30.0  26.0  25.0  26.0  26.0  22.0  26.0  30.0  \n",
      "2  26.0  25.0  22.0  21.0  22.0  21.0  20.0  25.0  23.0  \n",
      "\n",
      "[3 rows x 9350 columns]\n"
     ]
    }
   ],
   "source": [
    "print(image.head())"
   ]
  },
  {
   "cell_type": "code",
   "execution_count": 6,
   "metadata": {
    "collapsed": true
   },
   "outputs": [],
   "source": [
    "image_expert = pandas.read_csv(\"data/ImageExpertReduced.txt\", sep=\"\\s+\", header=None)"
   ]
  },
  {
   "cell_type": "code",
   "execution_count": 7,
   "metadata": {},
   "outputs": [
    {
     "name": "stdout",
     "output_type": "stream",
     "text": [
      "   0     1     2     3     4     5     6     7     8     9     ...   9340  \\\n",
      "0   1.0   1.0   1.0   1.0   1.0   1.0   1.0   1.0   1.0   1.0  ...    3.0   \n",
      "\n",
      "   9341  9342  9343  9344  9345  9346  9347  9348  9349  \n",
      "0   3.0   3.0   3.0   3.0   3.0   3.0   3.0   3.0   3.0  \n",
      "\n",
      "[1 rows x 9350 columns]\n"
     ]
    }
   ],
   "source": [
    "print(image_expert.head())"
   ]
  },
  {
   "cell_type": "code",
   "execution_count": 8,
   "metadata": {
    "collapsed": true
   },
   "outputs": [],
   "source": [
    "classification_rules = pandas.read_csv(\"data/ClassificationRules.txt\", sep=\"\\s+\", header=None)"
   ]
  },
  {
   "cell_type": "code",
   "execution_count": 9,
   "metadata": {},
   "outputs": [
    {
     "name": "stdout",
     "output_type": "stream",
     "text": [
      "   0     1     2     3     4     5     6     7     8     9     ...   9340  \\\n",
      "0   1.0   1.0   1.0   1.0   1.0   1.0   1.0   1.0   1.0   1.0  ...    1.0   \n",
      "1   1.0   1.0   1.0   1.0   1.0   1.0   1.0   1.0   1.0   1.0  ...    3.0   \n",
      "2   1.0   1.0   1.0   1.0   1.0   1.0   1.0   1.0   1.0   1.0  ...    2.0   \n",
      "3   1.0   1.0   1.0   1.0   1.0   1.0   1.0   1.0   1.0   1.0  ...    2.0   \n",
      "4   1.0   1.0   1.0   1.0   1.0   1.0   1.0   1.0   1.0   1.0  ...    2.0   \n",
      "\n",
      "   9341  9342  9343  9344  9345  9346  9347  9348  9349  \n",
      "0   3.0   3.0   1.0   1.0   1.0   1.0   1.0   1.0   3.0  \n",
      "1   3.0   3.0   3.0   3.0   3.0   3.0   3.0   3.0   3.0  \n",
      "2   2.0   2.0   2.0   2.0   2.0   2.0   2.0   2.0   2.0  \n",
      "3   2.0   2.0   2.0   2.0   2.0   2.0   2.0   2.0   2.0  \n",
      "4   2.0   2.0   2.0   2.0   2.0   2.0   2.0   2.0   2.0  \n",
      "\n",
      "[5 rows x 9350 columns]\n"
     ]
    }
   ],
   "source": [
    "print(classification_rules.head())"
   ]
  },
  {
   "cell_type": "code",
   "execution_count": 10,
   "metadata": {},
   "outputs": [
    {
     "name": "stdout",
     "output_type": "stream",
     "text": [
      "(266, 9350)\n"
     ]
    }
   ],
   "source": [
    "print(classification_rules.shape)"
   ]
  },
  {
   "cell_type": "code",
   "execution_count": 11,
   "metadata": {},
   "outputs": [
    {
     "name": "stdout",
     "output_type": "stream",
     "text": [
      "[[ 1.  1.  1. ...,  3.  3.  3.]\n",
      " [ 1.  1.  1. ...,  1.  1.  3.]\n",
      " [ 1.  1.  1. ...,  2.  2.  2.]\n",
      " [ 1.  1.  1. ...,  2.  2.  2.]]\n"
     ]
    }
   ],
   "source": [
    "print(classification_rules.as_matrix()[(1,0,3,4), :])"
   ]
  },
  {
   "cell_type": "code",
   "execution_count": 12,
   "metadata": {},
   "outputs": [
    {
     "name": "stdout",
     "output_type": "stream",
     "text": [
      "[[ 1.  2.  1. ...,  3.  3.  3.]] (1, 9350)\n"
     ]
    }
   ],
   "source": [
    "majority_votes = stats.mode(classification_rules.as_matrix())[0]\n",
    "print(majority_votes, majority_votes.shape)"
   ]
  },
  {
   "cell_type": "code",
   "execution_count": 13,
   "metadata": {},
   "outputs": [
    {
     "name": "stdout",
     "output_type": "stream",
     "text": [
      "   0     1     2     3     4     5     6     7     8     9     ...   9340  \\\n",
      "0   1.0   1.0   1.0   1.0   1.0   1.0   1.0   1.0   1.0   1.0  ...    3.0   \n",
      "\n",
      "   9341  9342  9343  9344  9345  9346  9347  9348  9349  \n",
      "0   3.0   3.0   3.0   3.0   3.0   3.0   3.0   3.0   3.0  \n",
      "\n",
      "[1 rows x 9350 columns]\n"
     ]
    }
   ],
   "source": [
    "print(image_expert)"
   ]
  },
  {
   "cell_type": "code",
   "execution_count": 14,
   "metadata": {},
   "outputs": [
    {
     "data": {
      "text/plain": [
       "array([[ True, False,  True, ...,  True,  True,  True]], dtype=bool)"
      ]
     },
     "execution_count": 14,
     "metadata": {},
     "output_type": "execute_result"
    }
   ],
   "source": [
    "(majority_votes == image_expert.as_matrix())"
   ]
  },
  {
   "cell_type": "code",
   "execution_count": 15,
   "metadata": {},
   "outputs": [
    {
     "data": {
      "text/plain": [
       "0.85155080213903744"
      ]
     },
     "execution_count": 15,
     "metadata": {},
     "output_type": "execute_result"
    }
   ],
   "source": [
    "np.sum(majority_votes == image_expert.as_matrix()) / majority_votes.shape[1]"
   ]
  },
  {
   "cell_type": "code",
   "execution_count": 16,
   "metadata": {},
   "outputs": [
    {
     "name": "stdout",
     "output_type": "stream",
     "text": [
      "(1, 9350)\n"
     ]
    }
   ],
   "source": [
    "print(image_expert.as_matrix().shape)"
   ]
  },
  {
   "cell_type": "code",
   "execution_count": 17,
   "metadata": {},
   "outputs": [
    {
     "data": {
      "text/plain": [
       "7962"
      ]
     },
     "execution_count": 17,
     "metadata": {},
     "output_type": "execute_result"
    }
   ],
   "source": [
    "np.sum(majority_votes == image_expert.as_matrix())"
   ]
  },
  {
   "cell_type": "code",
   "execution_count": 18,
   "metadata": {},
   "outputs": [
    {
     "data": {
      "text/plain": [
       "array([ 0.64534759,  0.70385027,  0.47026738,  0.47604278,  0.47090909,\n",
       "        0.49187166,  0.53390374,  0.4768984 ,  0.58203209,  0.62534759,\n",
       "        0.66256684,  0.68342246,  0.69786096,  0.69796791,  0.70406417,\n",
       "        0.70791444,  0.71037433,  0.71069519,  0.71165775,  0.71176471,\n",
       "        0.71219251,  0.71304813,  0.71315508,  0.71347594,  0.50342246,\n",
       "        0.71315508,  0.71358289,  0.71368984,  0.71368984,  0.71368984,\n",
       "        0.71368984,  0.71379679,  0.71379679,  0.71379679,  0.71379679,\n",
       "        0.58181818,  0.47636364,  0.48673797,  0.49486631,  0.48973262,\n",
       "        0.50331551,  0.51229947,  0.52064171,  0.52802139,  0.5344385 ,\n",
       "        0.53518717,  0.53550802,  0.5428877 ,  0.54438503,  0.54438503,\n",
       "        0.55122995,  0.55828877,  0.71358289,  0.71358289,  0.71358289,\n",
       "        0.71358289,  0.71347594,  0.71347594,  0.71358289,  0.71347594,\n",
       "        0.71347594,  0.71347594,  0.71336898,  0.71326203,  0.71283422,\n",
       "        0.67850267,  0.71165775,  0.71176471,  0.68106952,  0.48983957,\n",
       "        0.54609626,  0.50128342,  0.57636364,  0.56417112,  0.48855615,\n",
       "        0.56994652,  0.71315508,  0.71304813,  0.71283422,  0.48363636,\n",
       "        0.57582888,  0.70652406,  0.5744385 ,  0.4913369 ,  0.52983957,\n",
       "        0.57411765,  0.5744385 ,  0.60673797,  0.60898396,  0.60898396,\n",
       "        0.59368984,  0.68566845,  0.59347594,  0.63144385,  0.63122995,\n",
       "        0.63101604,  0.56491979,  0.52631016,  0.52609626,  0.48074866,\n",
       "        0.6573262 ,  0.7086631 ,  0.53069519,  0.48823529,  0.50652406,\n",
       "        0.67935829,  0.48631016,  0.52449198,  0.48459893,  0.65283422,\n",
       "        0.58010695,  0.58502674,  0.57807487,  0.58684492,  0.58663102,\n",
       "        0.58941176,  0.58930481,  0.59208556,  0.59315508,  0.47283422,\n",
       "        0.62481283,  0.49497326,  0.71197861,  0.7115508 ,  0.71090909,\n",
       "        0.71069519,  0.71026738,  0.70919786,  0.70834225,  0.66363636,\n",
       "        0.62128342,  0.55775401,  0.4997861 ,  0.59379679,  0.59390374,\n",
       "        0.59272727,  0.59197861,  0.59101604,  0.59048128,  0.52909091,\n",
       "        0.58673797,  0.58395722,  0.58096257,  0.58085561,  0.57636364,\n",
       "        0.56994652,  0.4859893 ,  0.56181818,  0.56171123,  0.52566845,\n",
       "        0.54909091,  0.54887701,  0.53090909,  0.50534759,  0.48235294,\n",
       "        0.48278075,  0.48342246,  0.6173262 ,  0.57957219,  0.59935829,\n",
       "        0.58951872,  0.56203209,  0.53700535,  0.58877005,  0.48823529,\n",
       "        0.52909091,  0.49871658,  0.53283422,  0.53272727,  0.57294118,\n",
       "        0.60534759,  0.60566845,  0.62192513,  0.63080214,  0.63240642,\n",
       "        0.63272727,  0.62941176,  0.62352941,  0.6197861 ,  0.62      ,\n",
       "        0.61358289,  0.60812834,  0.60331551,  0.58673797,  0.58042781,\n",
       "        0.5740107 ,  0.56684492,  0.55871658,  0.55893048,  0.52363636,\n",
       "        0.55037433,  0.54395722,  0.5371123 ,  0.5373262 ,  0.52973262,\n",
       "        0.52395722,  0.5484492 ,  0.51304813,  0.50491979,  0.49647059,\n",
       "        0.48737968,  0.47903743,  0.47893048,  0.47165775,  0.6286631 ,\n",
       "        0.4826738 ,  0.50898396,  0.48620321,  0.49026738,  0.5342246 ,\n",
       "        0.53326203,  0.53935829,  0.50203209,  0.52684492,  0.50491979,\n",
       "        0.56278075,  0.5144385 ,  0.51454545,  0.50427807,  0.50331551,\n",
       "        0.5031016 ,  0.49518717,  0.49187166,  0.49197861,  0.52053476,\n",
       "        0.49807487,  0.51080214,  0.48224599,  0.48481283,  0.56609626,\n",
       "        0.46962567,  0.47818182,  0.48524064,  0.47561497,  0.47700535,\n",
       "        0.46823529,  0.69935829,  0.55165775,  0.5942246 ,  0.57016043,\n",
       "        0.70748663,  0.5344385 ,  0.70620321,  0.70417112,  0.70245989,\n",
       "        0.70096257,  0.52748663,  0.69946524,  0.69112299,  0.69721925,\n",
       "        0.69518717,  0.69240642,  0.68438503,  0.67786096,  0.53657754,\n",
       "        0.66973262,  0.65700535,  0.63882353,  0.61304813,  0.59112299,\n",
       "        0.54235294,  0.54213904,  0.51882353,  0.51882353,  0.49572193,\n",
       "        0.46951872])"
      ]
     },
     "execution_count": 18,
     "metadata": {},
     "output_type": "execute_result"
    }
   ],
   "source": [
    "data = np.zeros(classification_rules.as_matrix().shape[0])\n",
    "for i in range(classification_rules.as_matrix().shape[0]):\n",
    "    data[i] = sum(classification_rules.as_matrix()[i] == image_expert.as_matrix()[0]\n",
    "                  ) / majority_votes.shape[1]\n",
    "data"
   ]
  },
  {
   "cell_type": "code",
   "execution_count": 19,
   "metadata": {},
   "outputs": [
    {
     "data": {
      "text/plain": [
       "[<matplotlib.lines.Line2D at 0x7f9b29578a20>]"
      ]
     },
     "execution_count": 19,
     "metadata": {},
     "output_type": "execute_result"
    },
    {
     "data": {
      "image/png": "[encoded data removed]",
      "text/plain": [
       "<matplotlib.figure.Figure at 0x7f9b24e82780>"
      ]
     },
     "metadata": {},
     "output_type": "display_data"
    }
   ],
   "source": [
    "pyplot.plot(data)"
   ]
  },
  {
   "cell_type": "code",
   "execution_count": 20,
   "metadata": {
    "collapsed": true
   },
   "outputs": [],
   "source": [
    "image_expert = image_expert.as_matrix()\n",
    "classification_rules = classification_rules.as_matrix()"
   ]
  },
  {
   "cell_type": "code",
   "execution_count": 21,
   "metadata": {},
   "outputs": [
    {
     "data": {
      "text/plain": [
       "6034"
      ]
     },
     "execution_count": 21,
     "metadata": {},
     "output_type": "execute_result"
    }
   ],
   "source": [
    "sp = np.zeros(classification_rules.shape[0]).astype(\"bool\")\n",
    "sp[0] = True\n",
    "sp2 = np.ones(classification_rules.shape[0]).astype(\"bool\")\n",
    "majority_votes = stats.mode(classification_rules[sp])[0]\n",
    "sum(majority_votes[0] == image_expert[0])"
   ]
  },
  {
   "cell_type": "code",
   "execution_count": 22,
   "metadata": {},
   "outputs": [
    {
     "data": {
      "text/plain": [
       "ModeResult(mode=array([[ 1.,  1.,  1., ...,  1.,  1.,  3.]]), count=array([[1, 1, 1, ..., 1, 1, 1]]))"
      ]
     },
     "execution_count": 22,
     "metadata": {},
     "output_type": "execute_result"
    }
   ],
   "source": [
    "stats.mode(classification_rules[(sp)])"
   ]
  },
  {
   "cell_type": "code",
   "execution_count": 23,
   "metadata": {},
   "outputs": [
    {
     "data": {
      "text/plain": [
       "array([[ 1.,  1.,  1., ...,  3.,  3.,  3.]])"
      ]
     },
     "execution_count": 23,
     "metadata": {},
     "output_type": "execute_result"
    }
   ],
   "source": [
    "image_expert"
   ]
  },
  {
   "cell_type": "code",
   "execution_count": 24,
   "metadata": {},
   "outputs": [
    {
     "data": {
      "text/plain": [
       "array([[ 1.,  1.,  1., ...,  1.,  1.,  3.]])"
      ]
     },
     "execution_count": 24,
     "metadata": {},
     "output_type": "execute_result"
    }
   ],
   "source": [
    "classification_rules[sp.astype(\"bool\")]"
   ]
  },
  {
   "cell_type": "code",
   "execution_count": 25,
   "metadata": {},
   "outputs": [
    {
     "data": {
      "text/plain": [
       "array([[ 1.,  1.,  1., ...,  1.,  1.,  3.]])"
      ]
     },
     "execution_count": 25,
     "metadata": {},
     "output_type": "execute_result"
    }
   ],
   "source": [
    "stats.mode(classification_rules[sp.astype(\"bool\")])[0]"
   ]
  },
  {
   "cell_type": "code",
   "execution_count": 26,
   "metadata": {
    "collapsed": true
   },
   "outputs": [],
   "source": [
    "def objective_function(population):\n",
    "    scores = np.zeros(population.shape[0])\n",
    "    for i, specimen in enumerate(population):\n",
    "        majority_votes = stats.mode(classification_rules[specimen.astype(\"bool\")])[0]\n",
    "        scores[i] = sum(majority_votes[0] == image_expert[0])\n",
    "    return scores"
   ]
  },
  {
   "cell_type": "code",
   "execution_count": 27,
   "metadata": {
    "collapsed": true
   },
   "outputs": [],
   "source": [
    "pop = np.array((sp, sp2))"
   ]
  },
  {
   "cell_type": "code",
   "execution_count": 28,
   "metadata": {},
   "outputs": [
    {
     "data": {
      "text/plain": [
       "array([ 6034.,  7962.])"
      ]
     },
     "execution_count": 28,
     "metadata": {},
     "output_type": "execute_result"
    }
   ],
   "source": [
    "objective_function(pop)"
   ]
  },
  {
   "cell_type": "code",
   "execution_count": 29,
   "metadata": {
    "collapsed": true
   },
   "outputs": [],
   "source": [
    "def iterations_limit(max_iterations):\n",
    "    def stop_iteration(_, best_specimens):\n",
    "        current_iteration = len(best_specimens)\n",
    "        return current_iteration >= max_iterations\n",
    "    return stop_iteration"
   ]
  },
  {
   "cell_type": "code",
   "execution_count": 33,
   "metadata": {
    "collapsed": true
   },
   "outputs": [],
   "source": [
    "model, best_specimens = pbil(objective_function, 300, 266, iterations_limit(500),\n",
    "                             0.05, 0.05, 0.01)"
   ]
  },
  {
   "cell_type": "code",
   "execution_count": 34,
   "metadata": {},
   "outputs": [
    {
     "data": {
      "text/plain": [
       "array([  9.82674674e-01,   9.91729511e-01,   9.99997667e-01,\n",
       "         1.52190501e-02,   1.34054940e-03,   8.71242167e-01,\n",
       "         2.58560764e-02,   9.99502418e-01,   4.99211726e-01,\n",
       "         9.99514124e-01,   4.70097235e-02,   9.99752179e-01,\n",
       "         9.43880901e-01,   1.00029257e-02,   9.79417185e-01,\n",
       "         7.80058790e-01,   2.60833768e-01,   1.34423992e-02,\n",
       "         1.51365466e-02,   4.27480738e-02,   5.12066769e-01,\n",
       "         2.89716469e-02,   1.23616610e-03,   9.99285949e-01,\n",
       "         5.10312420e-02,   1.27219331e-01,   9.92953337e-01,\n",
       "         1.11597222e-02,   1.38000180e-01,   2.59937736e-01,\n",
       "         1.93072688e-01,   1.25491816e-02,   7.68758985e-02,\n",
       "         4.39954465e-01,   1.94989448e-02,   9.46410692e-02,\n",
       "         1.35860028e-01,   4.86650149e-01,   1.34588789e-02,\n",
       "         4.55153942e-03,   8.72594951e-02,   9.96609102e-01,\n",
       "         5.27888888e-01,   7.37857607e-01,   2.23399470e-02,\n",
       "         5.74195891e-03,   2.06045178e-01,   6.05423066e-03,\n",
       "         9.73884818e-01,   9.56536820e-01,   9.36989479e-01,\n",
       "         8.63594924e-01,   9.12252611e-02,   3.61955743e-03,\n",
       "         2.13977294e-04,   4.04866777e-03,   1.15265554e-02,\n",
       "         1.45658837e-03,   7.77563079e-05,   9.89020791e-05,\n",
       "         3.78155677e-03,   4.11287506e-03,   7.78143795e-01,\n",
       "         6.92726476e-03,   1.42134721e-02,   9.41588993e-05,\n",
       "         7.56800634e-01,   7.25229712e-04,   5.96098344e-06,\n",
       "         9.45264995e-01,   8.67644378e-03,   4.64490079e-02,\n",
       "         9.67075471e-01,   9.42712729e-01,   5.58648780e-01,\n",
       "         9.99726275e-01,   3.64562087e-01,   9.97507035e-01,\n",
       "         9.69987589e-01,   9.99580488e-01,   8.60217020e-01,\n",
       "         5.25236240e-02,   5.50170931e-02,   9.95218829e-01,\n",
       "         9.99588982e-01,   2.52003839e-04,   5.92326304e-04,\n",
       "         8.50791618e-01,   9.85488106e-01,   9.38113559e-03,\n",
       "         9.99662307e-01,   9.98864328e-01,   1.98900662e-01,\n",
       "         1.96464024e-05,   6.07335067e-01,   9.88544164e-01,\n",
       "         9.82597960e-01,   9.36766619e-01,   9.99992797e-01,\n",
       "         9.60146108e-01,   9.93485160e-01,   9.99996869e-01,\n",
       "         9.98669478e-01,   1.42597863e-01,   9.94050718e-01,\n",
       "         9.95698475e-01,   9.93816498e-01,   9.93026414e-01,\n",
       "         6.70634725e-02,   9.74110418e-01,   3.25042522e-03,\n",
       "         1.56690661e-02,   1.00820627e-02,   1.68017413e-02,\n",
       "         8.49440171e-03,   9.32209494e-01,   9.08807563e-01,\n",
       "         9.80076136e-01,   9.74811168e-01,   9.99907919e-01,\n",
       "         1.37313128e-02,   9.99143996e-01,   4.74845047e-03,\n",
       "         3.90769570e-02,   5.91149679e-04,   6.91381466e-03,\n",
       "         2.96519943e-02,   9.28224647e-03,   1.70288296e-03,\n",
       "         9.99614733e-01,   9.96545452e-01,   9.85381501e-01,\n",
       "         2.16160681e-04,   3.49441784e-01,   9.56294373e-01,\n",
       "         7.16008424e-01,   5.84770597e-01,   9.99608932e-01,\n",
       "         9.89846995e-01,   9.61651066e-01,   9.93118442e-01,\n",
       "         9.80487078e-01,   9.38460678e-01,   9.67349130e-01,\n",
       "         9.87283510e-01,   9.55893746e-01,   4.21556249e-03,\n",
       "         8.54375217e-01,   3.08876660e-03,   8.72761312e-01,\n",
       "         9.95842720e-01,   7.75683710e-01,   9.84654430e-01,\n",
       "         9.64549430e-01,   9.99879461e-01,   9.99798787e-01,\n",
       "         8.09407519e-05,   9.07498687e-03,   9.97290248e-01,\n",
       "         9.98749158e-01,   5.50967563e-01,   2.97220077e-01,\n",
       "         9.99031375e-01,   6.17921836e-03,   9.99954004e-01,\n",
       "         8.07786808e-04,   2.07401507e-03,   6.94554798e-04,\n",
       "         9.98701337e-01,   9.87868908e-01,   1.67908258e-04,\n",
       "         9.99847500e-01,   9.74573384e-01,   4.58329027e-01,\n",
       "         9.78295029e-01,   9.93714749e-01,   9.99991735e-01,\n",
       "         9.99845605e-01,   1.63475686e-01,   9.89962465e-01,\n",
       "         3.63984528e-04,   9.96653749e-01,   6.27731286e-03,\n",
       "         2.11539036e-01,   1.46556474e-01,   7.48161504e-02,\n",
       "         3.61584224e-01,   1.71875689e-01,   8.84007065e-04,\n",
       "         5.91534573e-03,   2.85029162e-01,   5.31441592e-03,\n",
       "         1.58883668e-02,   3.99950527e-01,   1.78963757e-01,\n",
       "         3.44491578e-01,   9.94925095e-01,   9.94922667e-01,\n",
       "         2.09413602e-06,   6.30981291e-01,   2.97007980e-03,\n",
       "         1.82826760e-02,   2.73107770e-02,   2.86329804e-02,\n",
       "         9.99401888e-01,   9.99104041e-01,   4.95335258e-02,\n",
       "         1.26714721e-03,   1.50451176e-02,   9.97621132e-01,\n",
       "         9.56956902e-03,   9.97104632e-01,   9.84828746e-04,\n",
       "         7.83549993e-03,   2.11853077e-02,   9.99944371e-01,\n",
       "         8.16015894e-01,   4.45574915e-01,   8.64189532e-01,\n",
       "         1.27089189e-02,   2.87726699e-04,   1.61013306e-02,\n",
       "         1.97996348e-03,   7.43287028e-03,   9.95686912e-01,\n",
       "         1.61866457e-04,   3.52626144e-03,   9.99769261e-01,\n",
       "         1.52492602e-02,   1.47030037e-01,   4.69253286e-04,\n",
       "         1.95669066e-01,   8.53562807e-03,   8.14515378e-03,\n",
       "         1.06795872e-02,   3.46387587e-03,   3.80497745e-02,\n",
       "         9.97504101e-01,   9.92510992e-01,   3.05590882e-02,\n",
       "         1.90066447e-03,   7.19688472e-01,   2.76482095e-02,\n",
       "         1.92390899e-01,   6.71518051e-03,   3.81362245e-01,\n",
       "         1.46473295e-02,   9.13694144e-03,   6.48241500e-02,\n",
       "         9.31412607e-02,   6.20770130e-03,   1.29005468e-03,\n",
       "         5.88914756e-02,   4.77963650e-01,   5.56736353e-03,\n",
       "         4.54150123e-02,   8.03662040e-03,   2.28339191e-03,\n",
       "         2.13595240e-02,   7.86201587e-01,   4.43391874e-04,\n",
       "         6.11582767e-01,   2.03819659e-02,   9.79800661e-01,\n",
       "         7.78734868e-01,   4.84052391e-03])"
      ]
     },
     "execution_count": 34,
     "metadata": {},
     "output_type": "execute_result"
    }
   ],
   "source": [
    "model"
   ]
  },
  {
   "cell_type": "code",
   "execution_count": 35,
   "metadata": {},
   "outputs": [
    {
     "data": {
      "text/plain": [
       "[<matplotlib.lines.Line2D at 0x7f9b25f6add8>]"
      ]
     },
     "execution_count": 35,
     "metadata": {},
     "output_type": "execute_result"
    },
    {
     "data": {
      "image/png": "[encoded data removed]",
      "text/plain": [
       "<matplotlib.figure.Figure at 0x7f9b24e82438>"
      ]
     },
     "metadata": {},
     "output_type": "display_data"
    }
   ],
   "source": [
    "pyplot.plot(population_evaluation(best_specimens, objective_function))"
   ]
  },
  {
   "cell_type": "code",
   "execution_count": null,
   "metadata": {
    "collapsed": true
   },
   "outputs": [],
   "source": []
  }
 ],
 "metadata": {
  "kernelspec": {
   "display_name": "Python 3",
   "language": "python",
   "name": "python3"
  },
  "language_info": {
   "codemirror_mode": {
    "name": "ipython",
    "version": 3
   },
   "file_extension": ".py",
   "mimetype": "text/x-python",
   "name": "python",
   "nbconvert_exporter": "python",
   "pygments_lexer": "ipython3",
   "version": "3.6.3"
  }
 },
 "nbformat": 4,
 "nbformat_minor": 1
}
