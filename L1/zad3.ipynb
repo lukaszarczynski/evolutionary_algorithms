{
 "cells": [
  {
   "cell_type": "code",
   "execution_count": 71,
   "metadata": {
    "collapsed": true
   },
   "outputs": [],
   "source": [
    "import numpy as np\n",
    "import pandas\n",
    "from scipy import stats\n",
    "import matplotlib.pyplot as pyplot\n",
    "\n",
    "from L1.pbil import pbil, population_evaluation\n",
    "%matplotlib inline"
   ]
  },
  {
   "cell_type": "code",
   "execution_count": 18,
   "metadata": {},
   "outputs": [],
   "source": [
    "image = pandas.read_csv(\"L1/data/ImageRawReduced.txt\", sep=\"\\s+\", header=None)"
   ]
  },
  {
   "cell_type": "code",
   "execution_count": 19,
   "metadata": {
    "collapsed": true
   },
   "outputs": [
    {
     "name": "stdout",
     "output_type": "stream",
     "text": [
      "   0     1     2     3     4     5     6     7     8     9     ...   9340  \\\n0  26.0  29.0  33.0  34.0  33.0  27.0  30.0  26.0  30.0  29.0  ...   37.0   \n1  16.0  23.0  24.0  28.0  22.0  21.0  25.0  17.0  21.0  19.0  ...   27.0   \n2  75.0  68.0  86.0  87.0  81.0  71.0  76.0  78.0  90.0  74.0  ...   23.0   \n\n   9341  9342  9343  9344  9345  9346  9347  9348  9349  \n0  39.0  42.0  38.0  35.0  36.0  36.0  34.0  31.0  41.0  \n1  30.0  30.0  26.0  25.0  26.0  26.0  22.0  26.0  30.0  \n2  26.0  25.0  22.0  21.0  22.0  21.0  20.0  25.0  23.0  \n\n[3 rows x 9350 columns]\n"
     ]
    }
   ],
   "source": [
    "print(image.head())"
   ]
  },
  {
   "cell_type": "code",
   "execution_count": 20,
   "metadata": {},
   "outputs": [],
   "source": [
    "image_expert = pandas.read_csv(\"L1/data/ImageExpertReduced.txt\", sep=\"\\s+\", header=None)"
   ]
  },
  {
   "cell_type": "code",
   "execution_count": 21,
   "metadata": {},
   "outputs": [
    {
     "name": "stdout",
     "output_type": "stream",
     "text": [
      "   0     1     2     3     4     5     6     7     8     9     ...   9340  \\\n0   1.0   1.0   1.0   1.0   1.0   1.0   1.0   1.0   1.0   1.0  ...    3.0   \n\n   9341  9342  9343  9344  9345  9346  9347  9348  9349  \n0   3.0   3.0   3.0   3.0   3.0   3.0   3.0   3.0   3.0  \n\n[1 rows x 9350 columns]\n"
     ]
    }
   ],
   "source": [
    "print(image_expert.head())"
   ]
  },
  {
   "cell_type": "code",
   "execution_count": 22,
   "metadata": {},
   "outputs": [],
   "source": [
    "classification_rules = pandas.read_csv(\"L1/data/ClassificationRules.txt\", sep=\"\\s+\", header=None)"
   ]
  },
  {
   "cell_type": "code",
   "execution_count": 23,
   "metadata": {},
   "outputs": [
    {
     "name": "stdout",
     "output_type": "stream",
     "text": [
      "   0     1     2     3     4     5     6     7     8     9     ...   9340  \\\n0   1.0   1.0   1.0   1.0   1.0   1.0   1.0   1.0   1.0   1.0  ...    1.0   \n1   1.0   1.0   1.0   1.0   1.0   1.0   1.0   1.0   1.0   1.0  ...    3.0   \n2   1.0   1.0   1.0   1.0   1.0   1.0   1.0   1.0   1.0   1.0  ...    2.0   \n3   1.0   1.0   1.0   1.0   1.0   1.0   1.0   1.0   1.0   1.0  ...    2.0   \n4   1.0   1.0   1.0   1.0   1.0   1.0   1.0   1.0   1.0   1.0  ...    2.0   \n\n   9341  9342  9343  9344  9345  9346  9347  9348  9349  \n0   3.0   3.0   1.0   1.0   1.0   1.0   1.0   1.0   3.0  \n1   3.0   3.0   3.0   3.0   3.0   3.0   3.0   3.0   3.0  \n2   2.0   2.0   2.0   2.0   2.0   2.0   2.0   2.0   2.0  \n3   2.0   2.0   2.0   2.0   2.0   2.0   2.0   2.0   2.0  \n4   2.0   2.0   2.0   2.0   2.0   2.0   2.0   2.0   2.0  \n\n[5 rows x 9350 columns]\n"
     ]
    }
   ],
   "source": [
    "print(classification_rules.head())"
   ]
  },
  {
   "cell_type": "code",
   "execution_count": 24,
   "metadata": {},
   "outputs": [
    {
     "name": "stdout",
     "output_type": "stream",
     "text": [
      "(266, 9350)\n"
     ]
    }
   ],
   "source": [
    "print(classification_rules.shape)"
   ]
  },
  {
   "cell_type": "code",
   "execution_count": 34,
   "metadata": {},
   "outputs": [
    {
     "name": "stdout",
     "output_type": "stream",
     "text": [
      "[[ 1.  1.  1. ...,  3.  3.  3.]\n [ 1.  1.  1. ...,  1.  1.  3.]\n [ 1.  1.  1. ...,  2.  2.  2.]\n [ 1.  1.  1. ...,  2.  2.  2.]]\n"
     ]
    }
   ],
   "source": [
    "print(classification_rules.as_matrix()[(1,0,3,4), :])"
   ]
  },
  {
   "cell_type": "code",
   "execution_count": 42,
   "metadata": {},
   "outputs": [
    {
     "name": "stdout",
     "output_type": "stream",
     "text": [
      "[[ 1.  2.  1. ...,  3.  3.  3.]] (1, 9350)\n"
     ]
    }
   ],
   "source": [
    "majority_votes = stats.mode(classification_rules.as_matrix())[0]\n",
    "print(majority_votes, majority_votes.shape)"
   ]
  },
  {
   "cell_type": "code",
   "execution_count": 77,
   "metadata": {},
   "outputs": [
    {
     "name": "stdout",
     "output_type": "stream",
     "text": [
      "   0     1     2     3     4     5     6     7     8     9     ...   9340  \\\n0   1.0   1.0   1.0   1.0   1.0   1.0   1.0   1.0   1.0   1.0  ...    3.0   \n\n   9341  9342  9343  9344  9345  9346  9347  9348  9349  \n0   3.0   3.0   3.0   3.0   3.0   3.0   3.0   3.0   3.0  \n\n[1 rows x 9350 columns]\n"
     ]
    }
   ],
   "source": [
    "print(image_expert)"
   ]
  },
  {
   "cell_type": "code",
   "execution_count": 44,
   "metadata": {},
   "outputs": [
    {
     "data": {
      "text/plain": [
       "array([[ True, False,  True, ...,  True,  True,  True]], dtype=bool)"
      ]
     },
     "execution_count": 44,
     "metadata": {},
     "output_type": "execute_result"
    }
   ],
   "source": [
    "(majority_votes == image_expert.as_matrix())"
   ]
  },
  {
   "cell_type": "code",
   "execution_count": 47,
   "metadata": {},
   "outputs": [
    {
     "data": {
      "text/plain": [
       "0.85155080213903744"
      ]
     },
     "execution_count": 47,
     "metadata": {},
     "output_type": "execute_result"
    }
   ],
   "source": [
    "np.sum(majority_votes == image_expert.as_matrix()) / majority_votes.shape[1]"
   ]
  },
  {
   "cell_type": "code",
   "execution_count": 40,
   "metadata": {},
   "outputs": [
    {
     "name": "stdout",
     "output_type": "stream",
     "text": [
      "(1, 9350)\n"
     ]
    }
   ],
   "source": [
    "print(image_expert.as_matrix().shape)"
   ]
  },
  {
   "cell_type": "code",
   "execution_count": 46,
   "metadata": {},
   "outputs": [
    {
     "data": {
      "text/plain": [
       "7962"
      ]
     },
     "execution_count": 46,
     "metadata": {},
     "output_type": "execute_result"
    }
   ],
   "source": [
    "np.sum(majority_votes == image_expert.as_matrix())"
   ]
  },
  {
   "cell_type": "code",
   "execution_count": 78,
   "metadata": {},
   "outputs": [
    {
     "data": {
      "text/plain": [
       "array([ 0.64534759,  0.70385027,  0.47026738,  0.47604278,  0.47090909,\n        0.49187166,  0.53390374,  0.4768984 ,  0.58203209,  0.62534759,\n        0.66256684,  0.68342246,  0.69786096,  0.69796791,  0.70406417,\n        0.70791444,  0.71037433,  0.71069519,  0.71165775,  0.71176471,\n        0.71219251,  0.71304813,  0.71315508,  0.71347594,  0.50342246,\n        0.71315508,  0.71358289,  0.71368984,  0.71368984,  0.71368984,\n        0.71368984,  0.71379679,  0.71379679,  0.71379679,  0.71379679,\n        0.58181818,  0.47636364,  0.48673797,  0.49486631,  0.48973262,\n        0.50331551,  0.51229947,  0.52064171,  0.52802139,  0.5344385 ,\n        0.53518717,  0.53550802,  0.5428877 ,  0.54438503,  0.54438503,\n        0.55122995,  0.55828877,  0.71358289,  0.71358289,  0.71358289,\n        0.71358289,  0.71347594,  0.71347594,  0.71358289,  0.71347594,\n        0.71347594,  0.71347594,  0.71336898,  0.71326203,  0.71283422,\n        0.67850267,  0.71165775,  0.71176471,  0.68106952,  0.48983957,\n        0.54609626,  0.50128342,  0.57636364,  0.56417112,  0.48855615,\n        0.56994652,  0.71315508,  0.71304813,  0.71283422,  0.48363636,\n        0.57582888,  0.70652406,  0.5744385 ,  0.4913369 ,  0.52983957,\n        0.57411765,  0.5744385 ,  0.60673797,  0.60898396,  0.60898396,\n        0.59368984,  0.68566845,  0.59347594,  0.63144385,  0.63122995,\n        0.63101604,  0.56491979,  0.52631016,  0.52609626,  0.48074866,\n        0.6573262 ,  0.7086631 ,  0.53069519,  0.48823529,  0.50652406,\n        0.67935829,  0.48631016,  0.52449198,  0.48459893,  0.65283422,\n        0.58010695,  0.58502674,  0.57807487,  0.58684492,  0.58663102,\n        0.58941176,  0.58930481,  0.59208556,  0.59315508,  0.47283422,\n        0.62481283,  0.49497326,  0.71197861,  0.7115508 ,  0.71090909,\n        0.71069519,  0.71026738,  0.70919786,  0.70834225,  0.66363636,\n        0.62128342,  0.55775401,  0.4997861 ,  0.59379679,  0.59390374,\n        0.59272727,  0.59197861,  0.59101604,  0.59048128,  0.52909091,\n        0.58673797,  0.58395722,  0.58096257,  0.58085561,  0.57636364,\n        0.56994652,  0.4859893 ,  0.56181818,  0.56171123,  0.52566845,\n        0.54909091,  0.54887701,  0.53090909,  0.50534759,  0.48235294,\n        0.48278075,  0.48342246,  0.6173262 ,  0.57957219,  0.59935829,\n        0.58951872,  0.56203209,  0.53700535,  0.58877005,  0.48823529,\n        0.52909091,  0.49871658,  0.53283422,  0.53272727,  0.57294118,\n        0.60534759,  0.60566845,  0.62192513,  0.63080214,  0.63240642,\n        0.63272727,  0.62941176,  0.62352941,  0.6197861 ,  0.62      ,\n        0.61358289,  0.60812834,  0.60331551,  0.58673797,  0.58042781,\n        0.5740107 ,  0.56684492,  0.55871658,  0.55893048,  0.52363636,\n        0.55037433,  0.54395722,  0.5371123 ,  0.5373262 ,  0.52973262,\n        0.52395722,  0.5484492 ,  0.51304813,  0.50491979,  0.49647059,\n        0.48737968,  0.47903743,  0.47893048,  0.47165775,  0.6286631 ,\n        0.4826738 ,  0.50898396,  0.48620321,  0.49026738,  0.5342246 ,\n        0.53326203,  0.53935829,  0.50203209,  0.52684492,  0.50491979,\n        0.56278075,  0.5144385 ,  0.51454545,  0.50427807,  0.50331551,\n        0.5031016 ,  0.49518717,  0.49187166,  0.49197861,  0.52053476,\n        0.49807487,  0.51080214,  0.48224599,  0.48481283,  0.56609626,\n        0.46962567,  0.47818182,  0.48524064,  0.47561497,  0.47700535,\n        0.46823529,  0.69935829,  0.55165775,  0.5942246 ,  0.57016043,\n        0.70748663,  0.5344385 ,  0.70620321,  0.70417112,  0.70245989,\n        0.70096257,  0.52748663,  0.69946524,  0.69112299,  0.69721925,\n        0.69518717,  0.69240642,  0.68438503,  0.67786096,  0.53657754,\n        0.66973262,  0.65700535,  0.63882353,  0.61304813,  0.59112299,\n        0.54235294,  0.54213904,  0.51882353,  0.51882353,  0.49572193,\n        0.46951872])"
      ]
     },
     "execution_count": 78,
     "metadata": {},
     "output_type": "execute_result"
    }
   ],
   "source": [
    "data = np.zeros(classification_rules.as_matrix().shape[0])\n",
    "for i in range(classification_rules.as_matrix().shape[0]):\n",
    "    data[i] = sum(classification_rules.as_matrix()[i] == image_expert.as_matrix()[0]\n",
    "                  ) / majority_votes.shape[1]\n",
    "data"
   ]
  },
  {
   "cell_type": "code",
   "execution_count": 79,
   "metadata": {},
   "outputs": [
    {
     "data": {
      "text/plain": [
       "[<matplotlib.lines.Line2D at 0x7f1b32c3c6d8>]"
      ]
     },
     "execution_count": 79,
     "metadata": {},
     "output_type": "execute_result"
    },
    {
     "data": {
      "image/png": "[encoded data removed]",
      "text/plain": [
       "<matplotlib.figure.Figure at 0x7f1b32e2c080>"
      ]
     },
     "metadata": {},
     "output_type": "display_data"
    }
   ],
   "source": [
    "pyplot.plot(data)"
   ]
  },
  {
   "cell_type": "code",
   "execution_count": 80,
   "metadata": {},
   "outputs": [],
   "source": [
    "image_expert = image_expert.as_matrix()\n",
    "classification_rules = classification_rules.as_matrix()"
   ]
  },
  {
   "cell_type": "code",
   "execution_count": 100,
   "metadata": {},
   "outputs": [
    {
     "data": {
      "text/plain": [
       "6034"
      ]
     },
     "execution_count": 100,
     "metadata": {},
     "output_type": "execute_result"
    }
   ],
   "source": [
    "sp = np.zeros(classification_rules.shape[0]).astype(\"bool\")\n",
    "sp[0] = True\n",
    "sp2 = np.ones(classification_rules.shape[0]).astype(\"bool\")\n",
    "majority_votes = stats.mode(classification_rules[sp])[0]\n",
    "sum(majority_votes[0] == image_expert[0])"
   ]
  },
  {
   "cell_type": "code",
   "execution_count": 98,
   "metadata": {},
   "outputs": [
    {
     "data": {
      "text/plain": [
       "ModeResult(mode=array([[ 1.,  1.,  1., ...,  1.,  1.,  3.]]), count=array([[1, 1, 1, ..., 1, 1, 1]]))"
      ]
     },
     "execution_count": 98,
     "metadata": {},
     "output_type": "execute_result"
    }
   ],
   "source": [
    "stats.mode(classification_rules[(sp)])"
   ]
  },
  {
   "cell_type": "code",
   "execution_count": 90,
   "metadata": {},
   "outputs": [
    {
     "data": {
      "text/plain": [
       "array([[ 1.,  1.,  1., ...,  3.,  3.,  3.]])"
      ]
     },
     "execution_count": 90,
     "metadata": {},
     "output_type": "execute_result"
    }
   ],
   "source": [
    "image_expert"
   ]
  },
  {
   "cell_type": "code",
   "execution_count": 83,
   "metadata": {},
   "outputs": [
    {
     "data": {
      "text/plain": [
       "array([[ 1.,  1.,  1., ...,  1.,  1.,  3.],\n       [ 1.,  1.,  1., ...,  3.,  3.,  3.],\n       [ 1.,  1.,  1., ...,  2.,  2.,  2.],\n       ..., \n       [ 3.,  3.,  3., ...,  3.,  3.,  3.],\n       [ 3.,  3.,  3., ...,  3.,  3.,  3.],\n       [ 3.,  3.,  3., ...,  3.,  3.,  3.]])"
      ]
     },
     "execution_count": 83,
     "metadata": {},
     "output_type": "execute_result"
    }
   ],
   "source": [
    "classification_rules[sp.astype(\"bool\")]"
   ]
  },
  {
   "cell_type": "code",
   "execution_count": 87,
   "metadata": {},
   "outputs": [
    {
     "data": {
      "text/plain": [
       "array([[ 1.,  2.,  1., ...,  3.,  3.,  3.]])"
      ]
     },
     "execution_count": 87,
     "metadata": {},
     "output_type": "execute_result"
    }
   ],
   "source": [
    "stats.mode(classification_rules[sp.astype(\"bool\")])[0]"
   ]
  },
  {
   "cell_type": "code",
   "execution_count": 109,
   "metadata": {},
   "outputs": [],
   "source": [
    "def objective_function(population):\n",
    "    scores = np.zeros(population.shape[0])\n",
    "    for i, specimen in enumerate(population):\n",
    "        majority_votes = stats.mode(classification_rules[specimen.astype(\"bool\")])[0]\n",
    "        scores[i] = sum(majority_votes[0] == image_expert[0])\n",
    "    return scores"
   ]
  },
  {
   "cell_type": "code",
   "execution_count": 110,
   "metadata": {},
   "outputs": [],
   "source": [
    "pop = np.array((sp, sp2))"
   ]
  },
  {
   "cell_type": "code",
   "execution_count": 111,
   "metadata": {},
   "outputs": [
    {
     "data": {
      "text/plain": [
       "array([ 6034.,  7962.])"
      ]
     },
     "execution_count": 111,
     "metadata": {},
     "output_type": "execute_result"
    }
   ],
   "source": [
    "objective_function(pop)"
   ]
  },
  {
   "cell_type": "code",
   "execution_count": 112,
   "metadata": {},
   "outputs": [],
   "source": [
    "def iterations_limit(max_iterations):\n",
    "    def stop_iteration(_, best_specimens):\n",
    "        current_iteration = len(best_specimens)\n",
    "        return current_iteration >= max_iterations\n",
    "    return stop_iteration"
   ]
  },
  {
   "cell_type": "code",
   "execution_count": null,
   "metadata": {},
   "outputs": [],
   "source": [
    "model, best_specimens = pbil(objective_function, 125, 100, iterations_limit(1000),\n",
    "                             0.01, 0.05, 0.01)"
   ]
  }
 ],
 "metadata": {
  "kernelspec": {
   "display_name": "Python 2",
   "language": "python",
   "name": "python2"
  },
  "language_info": {
   "codemirror_mode": {
    "name": "ipython",
    "version": 2
   },
   "file_extension": ".py",
   "mimetype": "text/x-python",
   "name": "python",
   "nbconvert_exporter": "python",
   "pygments_lexer": "ipython2",
   "version": "2.7.6"
  }
 },
 "nbformat": 4,
 "nbformat_minor": 0
}
